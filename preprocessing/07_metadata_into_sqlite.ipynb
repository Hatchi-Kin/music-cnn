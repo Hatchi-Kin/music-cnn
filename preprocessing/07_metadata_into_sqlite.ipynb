{
 "cells": [
  {
   "cell_type": "code",
   "execution_count": null,
   "metadata": {},
   "outputs": [],
   "source": [
    "from utils.music_utils import *\n",
    "from pathlib import Path\n",
    "import sqlite3\n",
    "import logging\n",
    "from typing import Tuple, Optional\n",
    "import random\n",
    "import pandas as pd\n",
    "\n",
    "import musicbrainzngs"
   ]
  },
  {
   "cell_type": "code",
   "execution_count": null,
   "metadata": {},
   "outputs": [],
   "source": [
    "DATASET = Path(\"MegaSet\")\n",
    "SQLITE_INSTANCE = \"music_09.db\"\n",
    "pkl_files = list(DATASET.rglob(\"*.pkl\"))\n",
    "valid_files = [check_file_info(pkl_file) for pkl_file in pkl_files]\n",
    "invalid_files = [pkl_file for pkl_file, valid in zip(pkl_files, valid_files) if not valid]\n",
    "print(f\"Valid files: {len(valid_files)}\")\n",
    "print(f\"Invalid files: {len(invalid_files)}\")"
   ]
  },
  {
   "cell_type": "code",
   "execution_count": null,
   "metadata": {},
   "outputs": [],
   "source": [
    "# pick random invalid file and print_info\n",
    "\n",
    "if invalid_files:\n",
    "    random_invalid_file = random.choice(invalid_files)\n",
    "    print_info(random_invalid_file)\n",
    "else:\n",
    "    print(\"No invalid files found\")"
   ]
  },
  {
   "cell_type": "code",
   "execution_count": null,
   "metadata": {},
   "outputs": [],
   "source": [
    "def get_data(mp3_file: Path) -> dict:\n",
    "    pkl_path = mp3_file.with_suffix(\".pkl\")\n",
    "    with open(pkl_path, \"rb\") as f:\n",
    "        data = pickle.load(f)\n",
    "    data.pop(\"predictions_87\", None)\n",
    "    data.pop(\"embedding_512\", None)\n",
    "    data[\"mp3_path\"] = str(mp3_file)\n",
    "    return data"
   ]
  },
  {
   "cell_type": "code",
   "execution_count": null,
   "metadata": {},
   "outputs": [],
   "source": [
    "rdm_mp3 = pick_random_mp3(DATASET)\n",
    "rdm_mp3_data = get_data(rdm_mp3)\n",
    "\n",
    "print(\"\\n\".join(f\"{key}: {value}\" for key, value in rdm_mp3_data.items()))"
   ]
  },
  {
   "cell_type": "code",
   "execution_count": null,
   "metadata": {},
   "outputs": [],
   "source": [
    "def create_tables(self):\n",
    "    try:\n",
    "        with sqlite3.connect(self) as conn:\n",
    "            c = conn.cursor()\n",
    "\n",
    "            c.execute(\n",
    "                \"\"\"\n",
    "                CREATE TABLE IF NOT EXISTS songs(\n",
    "                    id INTEGER PRIMARY KEY,\n",
    "                    filename TEXT NOT NULL,\n",
    "                    filepath TEXT NOT NULL,\n",
    "                    album_folder TEXT NOT NULL,\n",
    "                    artist_folder TEXT NOT NULL,\n",
    "                    filesize REAL NOT NULL,\n",
    "                    title TEXT NOT NULL,\n",
    "                    artist TEXT NOT NULL,\n",
    "                    album TEXT NOT NULL,\n",
    "                    year INTEGER,\n",
    "                    tracknumber INTEGER,\n",
    "                    genre TEXT,\n",
    "                    top_5_genres TEXT\n",
    "                )\n",
    "                \"\"\"\n",
    "            )\n",
    "\n",
    "    except sqlite3.Error as e:\n",
    "        logging.error(f\"An error occurred in create_tables: {e}\")\n",
    "\n",
    "\n",
    "create_tables(SQLITE_INSTANCE)"
   ]
  },
  {
   "cell_type": "code",
   "execution_count": null,
   "metadata": {},
   "outputs": [],
   "source": [
    "class Song:\n",
    "    def __init__(\n",
    "        self,\n",
    "        filename: str,\n",
    "        filepath: str,\n",
    "        album_folder: str,\n",
    "        artist_folder: str,\n",
    "        filesize: float,\n",
    "        title: str,\n",
    "        artist: str,\n",
    "        album: str,\n",
    "        year: int,\n",
    "        tracknumber: int,\n",
    "        genre: str,\n",
    "        top_5_genres: str,\n",
    "    ):\n",
    "        self.filename = filename\n",
    "        self.filepath = filepath\n",
    "        self.album_folder = album_folder\n",
    "        self.artist_folder = artist_folder\n",
    "        self.filesize = filesize\n",
    "        self.title = title\n",
    "        self.artist = artist\n",
    "        self.album = album \n",
    "        self.year = year if year else None\n",
    "        self.tracknumber = tracknumber  if tracknumber else None\n",
    "        self.genre = genre  if genre else None\n",
    "        self.top_5_genres = (\n",
    "            top_5_genres if type(top_5_genres) == str else \", \".join(top_5_genres)\n",
    "        )\n",
    "\n",
    "class DatabaseManager:\n",
    "    def __init__(self, db_path: str):\n",
    "        self.conn = sqlite3.connect(db_path, check_same_thread=False)\n",
    "\n",
    "    def close(self):\n",
    "        self.conn.close()\n",
    "\n",
    "    def execute(self, query: str, params: Tuple = ()) -> None:\n",
    "        try:\n",
    "            with self.conn:\n",
    "                self.conn.execute(query, params)\n",
    "                self.conn.commit()\n",
    "        except sqlite3.Error as e:\n",
    "            logging.error(f\"An error occurred: {e}\")\n",
    "\n",
    "    def fetchone(self, query: str, params: Tuple = ()) -> Optional[Tuple]:\n",
    "        try:\n",
    "            with self.conn:\n",
    "                return self.conn.execute(query, params).fetchone()\n",
    "        except sqlite3.Error as e:\n",
    "            logging.error(f\"An error occurred: {e}\")\n",
    "\n",
    "    def fetchall(self, query: str, params: Tuple = ()) -> Optional[Tuple]:\n",
    "        try:\n",
    "            with self.conn:\n",
    "                return self.conn.execute(query, params).fetchall()\n",
    "        except sqlite3.Error as e:\n",
    "            logging.error(f\"An error occurred: {e}\")\n",
    "\n",
    "    def count_songs(self) -> int:\n",
    "        query = \"SELECT COUNT(*) FROM songs\"\n",
    "        return self.fetchone(query)[0]\n",
    "\n",
    "    def insert_song(self, song: Song) -> None:\n",
    "        song_data = (\n",
    "            song.filename,\n",
    "            song.filepath,\n",
    "            song.album_folder,\n",
    "            song.artist_folder,\n",
    "            song.filesize,\n",
    "            song.title,\n",
    "            song.artist,\n",
    "            song.album,\n",
    "            song.year,\n",
    "            song.tracknumber,\n",
    "            song.genre,\n",
    "            song.top_5_genres,\n",
    "        )\n",
    "        query = \"SELECT * FROM songs WHERE filename = ? AND filepath = ?\"\n",
    "        existing_song = self.fetchone(query, (song.filename, song.filepath))\n",
    "        if existing_song:\n",
    "            return\n",
    "        query = \"\"\"\n",
    "            INSERT INTO songs \n",
    "            (filename, filepath, album_folder, artist_folder, filesize, title, artist, album, year, tracknumber, genre, top_5_genres) \n",
    "            VALUES (?, ?, ?, ?, ?, ?, ?, ?, ?, ?, ?, ?)\n",
    "        \"\"\"\n",
    "        self.execute(query, song_data)"
   ]
  },
  {
   "cell_type": "code",
   "execution_count": null,
   "metadata": {},
   "outputs": [],
   "source": [
    "def pkl_to_dict(mp3_file: Path) -> Song:\n",
    "    pkl_path = mp3_file.with_suffix(\".pkl\")\n",
    "    with open(pkl_path, \"rb\") as f:\n",
    "        data = pickle.load(f)\n",
    "    data.pop(\"predictions_87\", None)\n",
    "    data.pop(\"embedding_512\", None)\n",
    "    data['artist_folder'] = data['filepath'].split(\"/\")[1]\n",
    "    song = Song(data[\"filename\"], \n",
    "                data[\"filepath\"], \n",
    "                data[\"folder\"],\n",
    "                data[\"artist_folder\"],\n",
    "                data[\"filesize\"], \n",
    "                data[\"title\"], \n",
    "                data[\"artist\"], \n",
    "                data[\"album\"],\n",
    "                data[\"year\"],\n",
    "                data[\"tracknumber\"],\n",
    "                data[\"genre\"],\n",
    "                \",\".join(data[\"top_5_genres\"])\n",
    "                )\n",
    "    return song"
   ]
  },
  {
   "cell_type": "code",
   "execution_count": null,
   "metadata": {},
   "outputs": [],
   "source": [
    "db = DatabaseManager(SQLITE_INSTANCE)\n",
    "\n",
    "# song = pkl_to_dict(rdm_mp3)\n",
    "# db.insert_song(song)"
   ]
  },
  {
   "cell_type": "code",
   "execution_count": null,
   "metadata": {},
   "outputs": [],
   "source": [
    "db.fetchall(\"SELECT * FROM songs\")[0]"
   ]
  },
  {
   "cell_type": "code",
   "execution_count": null,
   "metadata": {},
   "outputs": [],
   "source": [
    "# loop over every file in DATASET and, read every .pkl into a Song object \n",
    "# and insert it into the database\n",
    "\n",
    "for pkl_file in pkl_files:\n",
    "    song = pkl_to_dict(pkl_file)\n",
    "    db.insert_song(song)\n",
    "\n",
    "# 27.7s\n",
    "\n",
    "db.count_songs()"
   ]
  },
  {
   "cell_type": "code",
   "execution_count": null,
   "metadata": {},
   "outputs": [],
   "source": [
    "# create a pandas dataframe from the database\n",
    "query = \"SELECT * FROM songs\"\n",
    "df = pd.read_sql_query(query, db.conn)\n",
    "\n",
    "df.isna().sum()"
   ]
  },
  {
   "cell_type": "code",
   "execution_count": null,
   "metadata": {},
   "outputs": [],
   "source": [
    "## make sure the values for album don't contain any slashes\n",
    "\n",
    "path_to_sqlite_db = 'music_09.db'\n",
    "table_name = 'songs'\n",
    "\n",
    "class Song:\n",
    "    def __init__(self, filename: str, filepath: str, album_folder: str, artist_folder: str, filesize: float, title: str, artist: str, album: str, year: int, tracknumber: int, genre: str, top_5_genres: str):\n",
    "        self.filename = filename\n",
    "        self.filepath = filepath\n",
    "        self.album_folder = album_folder\n",
    "        self.artist_folder = artist_folder\n",
    "        self.filesize = filesize\n",
    "        self.title = title\n",
    "        self.artist = artist\n",
    "        self.album = album\n",
    "        self.year = year\n",
    "        self.tracknumber = tracknumber\n",
    "        self.genre = genre\n",
    "        self.top_5_genres = top_5_genres\n",
    "\n",
    "        \n",
    "def connect_to_db():\n",
    "    conn = sqlite3.connect(path_to_sqlite_db)\n",
    "    c = conn.cursor()\n",
    "    return conn, c\n",
    "\n",
    "def close_db(conn):\n",
    "    conn.commit()\n",
    "    conn.close()\n",
    "    \n",
    "def select_rows_with_slash_in_album():\n",
    "    conn, c = connect_to_db()\n",
    "    c.execute(f\"SELECT * FROM {table_name} WHERE album LIKE '%/%'\")\n",
    "    rows = c.fetchall()\n",
    "    close_db(conn)\n",
    "    return rows\n",
    "\n",
    "\n",
    "def count_rows_with_slash_in_album():\n",
    "    conn, c = connect_to_db()\n",
    "    c.execute(f\"SELECT COUNT(*) FROM {table_name} WHERE album LIKE '%/%'\")\n",
    "    count = c.fetchone()[0]\n",
    "    close_db(conn)\n",
    "    return count\n",
    "\n",
    "def update_album_column():\n",
    "    conn, c = connect_to_db()\n",
    "\n",
    "    c.execute(f\"SELECT * FROM {table_name} WHERE album LIKE '%/%'\")\n",
    "    rows = c.fetchall()\n",
    "\n",
    "    for row in rows:\n",
    "        album = row[7]\n",
    "        album = album.split('/')[-1]\n",
    "        c.execute(f\"UPDATE {table_name} SET album = ? WHERE filepath = ?\", (album, row[2]))\n",
    "\n",
    "    close_db(conn)\n"
   ]
  },
  {
   "cell_type": "code",
   "execution_count": null,
   "metadata": {},
   "outputs": [],
   "source": [
    "print(count_rows_with_slash_in_album())\n",
    "update_album_column()\n",
    "print(count_rows_with_slash_in_album())"
   ]
  },
  {
   "cell_type": "code",
   "execution_count": null,
   "metadata": {},
   "outputs": [],
   "source": [
    "#######################################################################\"\""
   ]
  },
  {
   "cell_type": "code",
   "execution_count": null,
   "metadata": {},
   "outputs": [],
   "source": [
    "# import musicbrainzngs\n",
    "\n",
    "musicbrainzngs.set_rate_limit(limit_or_interval=1.0, new_requests=10)\n",
    "# If you plan to submit data, authenticate\n",
    "# musicbrainzngs.auth(\"user\", \"password\")\n",
    "\n",
    "# (this step is required, as per the webservice access rules\n",
    "# at http://wiki.musicbrainz.org/XML_Web_Service/Rate_Limiting )\n",
    "musicbrainzngs.set_useragent(\"Music_Recommandation_Milvus\", \"0.1\", \"https://github.com/Hatchi-Kin/music_similarity\")\n",
    "\n",
    "# If you are connecting to a different server\n",
    "# musicbrainzngs.set_hostname(\"beta.musicbrainz.org\")"
   ]
  },
  {
   "cell_type": "code",
   "execution_count": null,
   "metadata": {},
   "outputs": [],
   "source": [
    "try:\n",
    "    result = musicbrainzngs.search_release_groups(\"Moby\", \"Play\")\n",
    "    print(\"Request was successful\")\n",
    "except musicbrainzngs.NetworkError:\n",
    "    print(\"Service is unavailable\")\n",
    "except musicbrainzngs.MusicBrainzError as e:\n",
    "    print(f\"An error occurred: {e}\")\n",
    "\n",
    "result['release-group-list'][0]"
   ]
  },
  {
   "cell_type": "code",
   "execution_count": null,
   "metadata": {},
   "outputs": [],
   "source": [
    "def get_album_id(artist, album):\n",
    "    result = musicbrainzngs.search_releases(artist=artist, release=album)\n",
    "    if result['release-list']:\n",
    "        # If there's a result, take the first one\n",
    "        first_result = result['release-list'][0]\n",
    "        return first_result['id']\n",
    "    else:\n",
    "        return None\n",
    "\n",
    "# Replace 'Artist Name' and 'Album Name' with the artist and album you're interested in\n",
    "print(get_album_id('Moby', 'Play'))"
   ]
  },
  {
   "cell_type": "code",
   "execution_count": null,
   "metadata": {},
   "outputs": [],
   "source": [
    "def get_album_year_by_id(album_id):\n",
    "        release_info = musicbrainzngs.get_release_by_id(album_id, includes=[\"release-groups\"])\n",
    "        date = release_info['release']['release-group']['first-release-date']\n",
    "        # The date is usually in the format 'YYYY-MM-DD', so we take the first 4 characters to get the year\n",
    "        year = date[:4]\n",
    "        return year\n",
    "\n",
    "# Replace 'Artist Name' and 'Album Name' with the artist and album you're interested in\n",
    "print(get_album_year_by_id('07833ad1-9638-3127-804a-e5a7d4e2ad21'))"
   ]
  },
  {
   "cell_type": "code",
   "execution_count": null,
   "metadata": {},
   "outputs": [],
   "source": [
    "# for every row in sqlite that has a None value for year,\n",
    "# get the album_id and then the year and update the row in sqlite and the pkl file\n",
    "\n",
    "errors = 0\n",
    "year_none = db.fetchall(\"SELECT * FROM songs WHERE year IS NULL\")\n",
    "for row in year_none:\n",
    "    album_id = get_album_id(row[6], row[5])\n",
    "    if album_id:\n",
    "        year = get_album_year_by_id(album_id)\n",
    "        db.execute(\"UPDATE songs SET year = ? WHERE filename = ? AND filepath = ?\", (year, row[1], row[2]))\n",
    "        pkl_path = Path(row[2]).with_suffix(\".pkl\")\n",
    "        with open(pkl_path, \"rb\") as f:\n",
    "            data = pickle.load(f)\n",
    "        data[\"year\"] = year\n",
    "        with open(pkl_path, \"wb\") as f:\n",
    "            pickle.dump(data, f)\n",
    "    else:\n",
    "        errors += 1\n",
    "\n",
    "# 9m 5.8s\n",
    "\n",
    "print(f\"Number of errors: {errors}\")"
   ]
  },
  {
   "cell_type": "code",
   "execution_count": null,
   "metadata": {},
   "outputs": [],
   "source": [
    "# count the number of rows with a None value or an empty string for year\n",
    "\n",
    "db.fetchall(\"SELECT COUNT(*) FROM songs WHERE year IS NULL OR year = '' OR year = ' '\")"
   ]
  },
  {
   "cell_type": "code",
   "execution_count": null,
   "metadata": {},
   "outputs": [],
   "source": [
    "# Get the list of rows of sqlite table where genre is None\n",
    "# read the .pkl file and get the first element of the top_5_genres list\n",
    "# and update the row's value for genre in sqlite\n",
    "\n",
    "genre_none = db.fetchall(\"SELECT * FROM songs WHERE genre IS NULL OR genre = '' OR genre = ' ' or genre = 'None'\")\n",
    "for row in genre_none:\n",
    "    song = pkl_to_dict(Path(row[2]))\n",
    "    genre = song.top_5_genres.split(\",\")[0]\n",
    "    db.execute(\"UPDATE songs SET genre = ? WHERE filename = ?\", (genre, row[1]))"
   ]
  },
  {
   "cell_type": "code",
   "execution_count": null,
   "metadata": {},
   "outputs": [],
   "source": [
    "# df.isna().sum() equivalent\n",
    "\n",
    "result = db.fetchall(\"PRAGMA table_info(songs)\")\n",
    "columns = [column[1] for column in result]\n",
    "\n",
    "# For each column, count the number of rows with NULL values\n",
    "for column in columns:\n",
    "    count = db.fetchone(f\"SELECT COUNT(*) FROM songs WHERE {column} IS NULL\")[0]\n",
    "    print(f\"{column}: {count}\")"
   ]
  },
  {
   "cell_type": "code",
   "execution_count": null,
   "metadata": {},
   "outputs": [],
   "source": [
    "# Get the list of rows is sqlite that have a NULL value for tracknumber\n",
    "\n",
    "tracknumber_none = db.fetchall(\"SELECT * FROM songs WHERE tracknumber IS NULL OR tracknumber = '' OR tracknumber = ' '\")\n",
    "\n",
    "# print the first 5 rows of the list\n",
    "for row in tracknumber_none[100:120]:\n",
    "    # print(row[9])\n",
    "    print(row[1])\n"
   ]
  },
  {
   "cell_type": "code",
   "execution_count": null,
   "metadata": {},
   "outputs": [],
   "source": [
    "len(tracknumber_none)"
   ]
  },
  {
   "cell_type": "code",
   "execution_count": null,
   "metadata": {},
   "outputs": [],
   "source": [
    "# read the value for filename and see if there is a str with two successive numbers\n",
    "# for example '05 - Les nuits parisiennes.mp3'. if there is, \n",
    "# extract the number and update the value for tracknumber in sqlite and the .pkl file\n",
    "    \n",
    "import re\n",
    "\n",
    "for row in tracknumber_none:\n",
    "    filename = row[1]\n",
    "    tracknumber = re.findall(r\"\\b\\d{2}\\b\", filename)\n",
    "    if tracknumber:\n",
    "        tracknumber = int(tracknumber[0])\n",
    "        db.execute(\"UPDATE songs SET tracknumber = ? WHERE filename = ?\", (tracknumber, row[1]))\n",
    "        pkl_path = Path(row[2]).with_suffix(\".pkl\")\n",
    "        with open(pkl_path, \"rb\") as f:\n",
    "            data = pickle.load(f)\n",
    "        data[\"tracknumber\"] = tracknumber\n",
    "        with open(pkl_path, \"wb\") as f:\n",
    "            pickle.dump(data, f)\n",
    "\n",
    "\n",
    "# read the value for filename and use re to check if the str contains 'Volo ' then a single digit*\n",
    "# for example 'Volo 1-Jai beau.mp3'. if there is, extract the number and update the value for tracknumber in sqlite and the .pkl file\n",
    "            \n",
    "tracknumber_none = db.fetchall(\"SELECT * FROM songs WHERE tracknumber IS NULL OR tracknumber = '' OR tracknumber = ' '\")\n",
    "for row in tracknumber_none:\n",
    "    filename = row[1]\n",
    "    tracknumber = re.findall(r\"Volo (\\d)\", filename)\n",
    "    if tracknumber:\n",
    "        tracknumber = int(tracknumber[0])\n",
    "        db.execute(\"UPDATE songs SET tracknumber = ? WHERE filename = ?\", (tracknumber, row[1]))\n",
    "        pkl_path = Path(row[2]).with_suffix(\".pkl\")\n",
    "        with open(pkl_path, \"rb\") as f:\n",
    "            data = pickle.load(f)\n",
    "        data[\"tracknumber\"] = tracknumber\n",
    "        with open(pkl_path, \"wb\") as f:\n",
    "            pickle.dump(data, f)\n"
   ]
  },
  {
   "cell_type": "code",
   "execution_count": null,
   "metadata": {},
   "outputs": [],
   "source": [
    "# read the value for filename and use re to check if the str starts with a \n",
    "# single or double digit immediately followed by a dot then a space then a \"\n",
    "# for example '1. “Nightcall” - Kavinsky & Lovefoxxx.mp3' . If there is, \n",
    "# extract the number and update the value for tracknumber in sqlite and the .pkl file\n",
    "\n",
    "tracknumber_none = db.fetchall(\"SELECT * FROM songs WHERE tracknumber IS NULL OR tracknumber = '' OR tracknumber = ' '\")\n",
    "for row in tracknumber_none:\n",
    "    filename = row[1]\n",
    "    tracknumber = re.findall(r\"(\\d{1,2})\\. \", filename)\n",
    "    if tracknumber:\n",
    "        tracknumber = int(tracknumber[0])\n",
    "        db.execute(\"UPDATE songs SET tracknumber = ? WHERE filename = ?\", (tracknumber, row[1]))\n",
    "        pkl_path = Path(row[2]).with_suffix(\".pkl\")\n",
    "        with open(pkl_path, \"rb\") as f:\n",
    "            data = pickle.load(f)\n",
    "        data[\"tracknumber\"] = tracknumber\n",
    "        with open(pkl_path, \"wb\") as f:\n",
    "            pickle.dump(data, f)\n"
   ]
  },
  {
   "cell_type": "code",
   "execution_count": null,
   "metadata": {},
   "outputs": [],
   "source": [
    "# df.isna().sum() equivalent\n",
    "\n",
    "result = db.fetchall(\"PRAGMA table_info(songs)\")\n",
    "columns = [column[1] for column in result]\n",
    "\n",
    "# For each column, count the number of rows with NULL values\n",
    "for column in columns:\n",
    "    count = db.fetchone(f\"SELECT COUNT(*) FROM songs WHERE {column} IS NULL\")[0]\n",
    "    print(f\"{column}: {count}\")"
   ]
  },
  {
   "cell_type": "code",
   "execution_count": null,
   "metadata": {},
   "outputs": [],
   "source": [
    "# print the rows where value for tracknumber is NULL\n",
    "tracknumber_none = db.fetchall(\"SELECT * FROM songs WHERE tracknumber IS NULL OR tracknumber = '' OR tracknumber = ' '\")\n",
    "for row in tracknumber_none:\n",
    "    print(f\"{row[1]}   -----   {row[6]}\")"
   ]
  },
  {
   "cell_type": "code",
   "execution_count": null,
   "metadata": {},
   "outputs": [],
   "source": [
    "########### Unique artist\n",
    "\n",
    "# for eah row in sqlite, read the filepath, extract the str between the third and fourth  / and compare to the value for artist_folder\n",
    "# if different, add the path to a list\n",
    "db = DatabaseManager(SQLITE_INSTANCE)\n",
    "\n",
    "artist_diff = []\n",
    "for row in db.fetchall(\"SELECT * FROM songs\"):\n",
    "    filepath = row[2]\n",
    "    artist_folder = row[4]\n",
    "    if filepath.split(\"/\")[3] != artist_folder:\n",
    "        artist_diff.append(filepath)"
   ]
  },
  {
   "cell_type": "code",
   "execution_count": null,
   "metadata": {},
   "outputs": [],
   "source": [
    "for art in artist_diff[40:70]:\n",
    "    print(art)"
   ]
  },
  {
   "cell_type": "code",
   "execution_count": null,
   "metadata": {},
   "outputs": [],
   "source": [
    "######################################################################################################"
   ]
  },
  {
   "cell_type": "code",
   "execution_count": null,
   "metadata": {},
   "outputs": [],
   "source": [
    "db = DatabaseManager(SQLITE_INSTANCE)\n",
    "\n",
    "query = \"PRAGMA table_info(songs);\"\n",
    "columns_info = db.fetchall(query)\n",
    "for column_info in columns_info:\n",
    "    print(column_info)"
   ]
  },
  {
   "cell_type": "code",
   "execution_count": null,
   "metadata": {},
   "outputs": [],
   "source": [
    "query = \"SELECT * FROM songs WHERE album LIKE '%/%'\"\n",
    "rows = db.fetchall(query)\n",
    "for row in rows[:5]:\n",
    "    print(f\"Filename: {row[1]}\\nFilepath: {row[2]}\\nAlbum: {row[8]}\\n\")"
   ]
  },
  {
   "cell_type": "code",
   "execution_count": null,
   "metadata": {},
   "outputs": [],
   "source": [
    "for row in rows:\n",
    "    # Split the album name on slashes and keep only the part after the last slash\n",
    "    new_album = row[8].split('/')[-1]\n",
    "    # Update the album column for this row\n",
    "    query = f\"UPDATE songs SET album = ? WHERE id = ?\"\n",
    "    db.execute(query, (new_album, row[0]))\n",
    "\n"
   ]
  },
  {
   "cell_type": "code",
   "execution_count": null,
   "metadata": {},
   "outputs": [],
   "source": [
    "query = \"SELECT * FROM songs WHERE album LIKE '%/%'\"\n",
    "rows = db.fetchall(query)\n",
    "for row in rows[:5]:\n",
    "    print(f\"Filename: {row[1]}\\nFilepath: {row[2]}\\nAlbum: {row[8]}\\n\")"
   ]
  },
  {
   "cell_type": "code",
   "execution_count": null,
   "metadata": {},
   "outputs": [],
   "source": [
    "# Fetch column information\n",
    "query = \"PRAGMA table_info(songs);\"\n",
    "columns_info = db.fetchall(query)\n",
    "\n",
    "# Fetch the first row\n",
    "query = \"SELECT * FROM songs LIMIT 1\"\n",
    "row = db.fetchone(query)\n",
    "\n",
    "# Pretty print column names and values\n",
    "if row is not None:\n",
    "    for i in range(len(row)):\n",
    "        print(f\"{columns_info[i][1]}: {row[i]}\")\n",
    "else:\n",
    "    print(\"No rows found in the table\")"
   ]
  },
  {
   "cell_type": "code",
   "execution_count": null,
   "metadata": {},
   "outputs": [],
   "source": [
    "# Fetch all rows\n",
    "query = \"SELECT * FROM songs\"\n",
    "rows = db.fetchall(query)\n",
    "\n",
    "for row in rows:\n",
    "    # Construct the full path for the artist folder\n",
    "    new_artist_folder = 'MegaSet/' + row[4]\n",
    "    # Update the artist_folder column for this row\n",
    "    query = \"UPDATE songs SET artist_folder = ? WHERE id = ?\"\n",
    "    db.execute(query, (new_artist_folder, row[0]))"
   ]
  }
 ],
 "metadata": {
  "kernelspec": {
   "display_name": ".venv",
   "language": "python",
   "name": "python3"
  },
  "language_info": {
   "codemirror_mode": {
    "name": "ipython",
    "version": 3
   },
   "file_extension": ".py",
   "mimetype": "text/x-python",
   "name": "python",
   "nbconvert_exporter": "python",
   "pygments_lexer": "ipython3",
   "version": "3.10.12"
  }
 },
 "nbformat": 4,
 "nbformat_minor": 2
}
