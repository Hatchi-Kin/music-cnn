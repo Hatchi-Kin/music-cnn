{
 "cells": [
  {
   "cell_type": "code",
   "execution_count": 1,
   "metadata": {},
   "outputs": [],
   "source": [
    "import os\n",
    "import random\n",
    "import json\n",
    "import pickle\n",
    "\n",
    "from utils.music_utils import *\n",
    "import music_tag\n",
    "\n",
    "from pathlib import Path\n",
    "import numpy as np\n",
    "\n",
    "from pymilvus import connections, utility\n",
    "from pymilvus import Collection, DataType, FieldSchema, CollectionSchema"
   ]
  },
  {
   "cell_type": "code",
   "execution_count": 2,
   "metadata": {},
   "outputs": [
    {
     "name": "stdout",
     "output_type": "stream",
     "text": [
      "Number of valid files: 16374 | Number of invalid files: 0\n"
     ]
    }
   ],
   "source": [
    "DATASET = Path(\"MegaSet\")\n",
    "pkl_files = list(DATASET.rglob('*.pkl'))\n",
    "valid_files = [check_file_info(pkl_file) for pkl_file in pkl_files]\n",
    "print(f\"Number of valid files: {sum(valid_files)} | Number of invalid files: {len(valid_files) - sum(valid_files)}\")"
   ]
  },
  {
   "cell_type": "code",
   "execution_count": 3,
   "metadata": {},
   "outputs": [],
   "source": [
    "from dotenv import load_dotenv\n",
    "load_dotenv()\n",
    "\n",
    "URI = os.getenv(\"MILVUS_URI\")\n",
    "TOKEN = os.getenv(\"MILVUS_TOKEN\")"
   ]
  },
  {
   "cell_type": "code",
   "execution_count": null,
   "metadata": {},
   "outputs": [],
   "source": [
    "# connect to milvus\n",
    "connections.connect(\"default\",\n",
    "                    uri=URI,\n",
    "                    token=TOKEN)\n",
    "print(f\"Connecting to DB: {URI}\")\n",
    "print(utility.list_collections())"
   ]
  },
  {
   "cell_type": "code",
   "execution_count": 5,
   "metadata": {},
   "outputs": [],
   "source": [
    "collection_512 = Collection(\"embeddings_512\")"
   ]
  },
  {
   "cell_type": "code",
   "execution_count": 6,
   "metadata": {},
   "outputs": [
    {
     "name": "stdout",
     "output_type": "stream",
     "text": [
      "Number of hiphop songs: 5712\n",
      "Number of songs that are both hiphop and jazz:  240\n"
     ]
    }
   ],
   "source": [
    "entities = collection_512.query(\n",
    "    expr='array_contains(top_5_genres, \"hiphop\")',\n",
    "    output_fields=[\"count(*)\"]\n",
    ")\n",
    "\n",
    "print(f\"Number of hiphop songs: {entities[0]['count(*)']}\")\n",
    "\n",
    "entities = collection_512.query(\n",
    "    expr='array_contains_all(top_5_genres, [\"hiphop\", \"jazz\"])',\n",
    "    output_fields=[\"count(*)\"]\n",
    ")\n",
    "\n",
    "print(\"Number of songs that are both hiphop and jazz: \", entities[0]['count(*)'])"
   ]
  },
  {
   "cell_type": "code",
   "execution_count": 7,
   "metadata": {},
   "outputs": [],
   "source": [
    "custom_playlist = [\n",
    "    \"MegaSet/Jurassic 5/Jurassic 5 - Quality Control (2000)/001 How We Get Along.mp3\",\n",
    "    \"MegaSet/Jurassic 5/Jurassic 5 - Quality Control (2000)/010 Jurass Finish First.mp3\",\n",
    "    \"MegaSet/Jurassic 5/Jurassic 5 - Quality Control (2000)/013 The Game.mp3\",\n",
    "    \"MegaSet/Jurassic 5/Jurassic 5 - Quality Control (2000)/015 Swing Set.mp3\"\n",
    "]"
   ]
  },
  {
   "cell_type": "code",
   "execution_count": 8,
   "metadata": {},
   "outputs": [
    {
     "name": "stdout",
     "output_type": "stream",
     "text": [
      "Playlist artists: ['Jurassic 5']\n",
      "Playlist genres: ['funk', 'jazz', 'electronic', 'pop', 'rock', 'hiphop', 'rap', 'alternative', 'experimental']\n"
     ]
    }
   ],
   "source": [
    "playlist_embeddings = []\n",
    "playlist_artists = []\n",
    "playlist_genres = []\n",
    "\n",
    "for song in custom_playlist:\n",
    "    res = collection_512.query(expr=f'path == \"{song}\"', output_fields=[\"*\"])\n",
    "\n",
    "    playlist_embeddings.append(res[0][\"embedding\"])\n",
    "    if res[0][\"artist\"] not in playlist_artists:\n",
    "        playlist_artists.append(res[0][\"artist\"])\n",
    "\n",
    "    for g in res[0][\"top_5_genres\"]:\n",
    "        if g not in playlist_genres:\n",
    "            playlist_genres.append(g)\n",
    "\n",
    "print(f\"Playlist artists: {playlist_artists}\")\n",
    "print(f\"Playlist genres: {playlist_genres}\")"
   ]
  },
  {
   "cell_type": "code",
   "execution_count": 9,
   "metadata": {},
   "outputs": [
    {
     "name": "stdout",
     "output_type": "stream",
     "text": [
      "Playlist embedding shape: (512,)\n"
     ]
    }
   ],
   "source": [
    "playlist_embedding = np.mean(playlist_embeddings, axis=0)\n",
    "print(f\"Playlist embedding shape: {playlist_embedding.shape}\")"
   ]
  },
  {
   "cell_type": "code",
   "execution_count": 10,
   "metadata": {},
   "outputs": [
    {
     "name": "stdout",
     "output_type": "stream",
     "text": [
      "Title                          | Artist                                   | Top 5 Genres\n",
      "---------------------------------------------------------------------------\n",
      "Jurass Finish First            | Jurassic 5                               | hiphop, rap, electronic, alternative, rock\n",
      "Un scratch, un beat, un rap    | Disiz La Peste                           | hiphop, rap, electronic, pop, reggae\n",
      "Africanize Dem                 | Patrice                                  | hiphop, electronic, rock, pop, alternative\n",
      "09 - Down For The Count (feat  | Talib Kweli & Hi-Tek                     | hiphop, rap, pop, reggae, electronic\n",
      "Contact                        | Jurassic 5                               | electronic, hiphop, experimental, alternative, rap\n",
      "Quality Intro                  | Jurassic 5                               | electronic, hiphop, experimental, alternative, reggae\n",
      "The Game                       | Jurassic 5                               | hiphop, rap, pop, electronic, rock\n",
      "Papa ?                         | Hocus Pocus                              | hiphop, rap, electronic, jazz, ambient\n",
      "L’Empire du côté obscur        | IAM                                      | hiphop, rap, electronic, soundtrack, experimental\n",
      "08 - Africa Dream.mp3          | Talib Kweli & Hi-Tek                     | hiphop, rap, electronic, alternative, pop\n",
      "Quality Control                | Jurassic 5                               | hiphop, rap, electronic, soul, 90s\n",
      "01. LIGHT SPEED.flac.mp3       | Grieves                                  | hiphop, rap, pop, electronic, alternative\n",
      "Manque de Q                    | M                                        | reggae, rock, pop, alternative, electronic\n",
      "Right Thing (Z-Trip 'Set the   | DJ Shadow                                | electronic, experimental, alternative, hiphop, pop\n",
      "Why Me                         | Kinny & Horne                            | hiphop, electronic, reggae, pop, rap\n",
      "04 - The Blast (feat. Vinia M  | Talib Kweli & Hi-Tek                     | hiphop, rap, electronic, triphop, chillout\n",
      "Outro / Radio Sucks / The Min  | Limp Bizkit feat. Matt Pinfield / Limp   | hiphop, electronic, rap, alternative, experimental\n",
      "L'associé du diable            | Disiz La Peste                           | hiphop, rap, electronic, triphop, ambient\n",
      "Bar One                        | Dr. Dre feat. Traci Nelson, Ms. Roq & E  | hiphop, rap, reggae, electronic, experimental\n",
      "100 grammes de peur            | Hocus Pocus                              | electronic, pop, hiphop, jazz, soundtrack\n"
     ]
    }
   ],
   "source": [
    "bigresult = collection_512.search(\n",
    "    data=[playlist_embedding],\n",
    "    anns_field=\"embedding\",\n",
    "    param={\"nprobe\": 16},\n",
    "    limit=200,\n",
    "    offset=1,\n",
    "    output_fields=[\"*\"],\n",
    ")\n",
    "\n",
    "print(f'{\"Title\":<30} | {\"Artist\":<40} | {\"Top 5 Genres\"}')\n",
    "print('-' * 75)\n",
    "\n",
    "already_proposed_artits = []\n",
    "count = 0\n",
    "for result in bigresult[0]:\n",
    "    # if result.artist in already_proposed_artits or result.artist in playlist_artists:\n",
    "    #     continue\n",
    "    if count >= 20:\n",
    "        break\n",
    "    already_proposed_artits.append(result.artist)\n",
    "    count += 1\n",
    "    print(f\"{result.title[:29]:<30} | {result.artist[:39]:<40} | {', '.join(result.top_5_genres)}\")"
   ]
  },
  {
   "cell_type": "code",
   "execution_count": 11,
   "metadata": {},
   "outputs": [],
   "source": [
    "########## 87\n",
    "\n",
    "with open(\"utils/mtg_jamendo_genre.json\", \"r\") as json_file:\n",
    "    metadata = json.load(json_file)\n",
    "classes = metadata.get(\"classes\")\n",
    "\n",
    "collection_87 = Collection(\"predictions_87\")\n",
    "playlist_predictions = []\n",
    "playlist_artists = []\n",
    "\n",
    "for song in custom_playlist:\n",
    "    res = collection_87.query(expr=f'path == \"{song}\"', output_fields=[\"artist\", \"predictions\"])\n",
    "    res = res[0]\n",
    "    \n",
    "    playlist_predictions.append(res[\"predictions\"])\n",
    "    if res[\"artist\"] not in playlist_artists:\n",
    "        playlist_artists.append(res[\"artist\"])\n"
   ]
  },
  {
   "cell_type": "code",
   "execution_count": 12,
   "metadata": {},
   "outputs": [
    {
     "name": "stdout",
     "output_type": "stream",
     "text": [
      "Playlist artists: ['Jurassic 5']\n",
      "Playlist predictions: [[0.005762913, 0.008253301, 0.0034851625, 0.0071143573, 0.017980726, 0.104377165, 0.0041923956, 0.049063977, 0.0071481564, 0.024958074, 0.0033044128, 0.008596563, 0.008770922, 0.003075228, 0.017866416, 0.019159041, 0.0015088706, 0.008702474, 0.0026463908, 0.0055947155, 0.002400248, 0.011374329, 0.027170414, 0.003779239, 0.0023712434, 0.0033102299, 0.020748364, 0.010023192, 0.007975754, 0.014262985, 0.0043711397, 0.029198537, 0.0021468787, 0.1600409, 0.0033185922, 0.013859835, 0.006944419, 0.0012383214, 0.11420882, 0.015839698, 0.22673073, 0.045681458, 0.021750843, 0.0064038895, 0.003158051, 0.0057094204, 0.041474447, 0.01316731, 0.0031139345, 0.019663494, 0.035182394, 0.012613428, 0.04153401, 0.017195258, 0.21501057, 0.028628124, 0.013428143, 0.021873157, 0.0013072963, 0.009379363, 0.0038117596, 0.0072622136, 0.0024246832, 0.007676928, 0.12849125, 0.01350378, 0.021970263, 0.0022968617, 0.008117019, 0.010785368, 0.011316147, 0.02122512, 0.07336451, 0.043481924, 0.119236685, 0.006457378, 0.005823502, 0.02934376, 0.06018214, 0.023430565, 0.004024605, 0.009147098, 0.012668572, 0.00421687, 0.01466184, 0.02667935, 0.012073244], [0.0024076537, 0.0010877283, 0.0012289174, 0.04518506, 0.0015659486, 0.05789488, 0.0017637857, 0.018564457, 0.004822803, 0.006764203, 0.00070994237, 0.0011485079, 0.011413826, 0.0011900483, 0.002026201, 0.00795607, 0.0006432673, 0.012260697, 0.0007110629, 0.0041269497, 0.0009846293, 0.00337505, 0.010844183, 0.0019730774, 0.0012918712, 0.0007597628, 0.0023424095, 0.0069874222, 0.005111416, 0.009742165, 0.0026567567, 0.0142180035, 0.000840215, 0.13735586, 0.0012297771, 0.006120518, 0.0019166422, 0.00069971144, 0.04658525, 0.009932143, 0.043114386, 0.004636518, 0.007902876, 0.0021794806, 0.0017801351, 0.0016144773, 0.65540546, 0.006091594, 0.0014723697, 0.0019573262, 0.016618038, 0.006649226, 0.013490361, 0.006112863, 0.03968199, 0.0018760877, 0.004837186, 0.0064287744, 0.00037882704, 0.0062338035, 0.0009715434, 0.0019167133, 0.0016972172, 0.0059279418, 0.05236673, 0.007471499, 0.009250325, 0.0016179873, 0.0020999594, 0.0032790229, 0.008487283, 0.30597124, 0.026660537, 0.019943573, 0.05315386, 0.00237367, 0.0038092304, 0.026234193, 0.042521454, 0.0073621487, 0.0017423214, 0.0018210176, 0.0039672274, 0.0011605214, 0.03723484, 0.013161081, 0.0019850894], [0.0028905226, 0.0020190494, 0.0025016337, 0.018318767, 0.001895138, 0.071576715, 0.00296543, 0.021736693, 0.0041058892, 0.0073495805, 0.0010582972, 0.0012471385, 0.0097738085, 0.0017533029, 0.002892695, 0.01050553, 0.0010628673, 0.006928566, 0.0016268214, 0.005090273, 0.0010902309, 0.005619786, 0.017333295, 0.0015319748, 0.0014112348, 0.0014427287, 0.0045466116, 0.007042502, 0.0047275126, 0.007295008, 0.0035085802, 0.012808811, 0.0013155487, 0.1321107, 0.0018604916, 0.011357696, 0.003134817, 0.0013770227, 0.046287823, 0.014567127, 0.03607369, 0.00541286, 0.010661302, 0.0027757408, 0.0036959744, 0.0037867941, 0.59004086, 0.005990397, 0.0018220182, 0.0014532112, 0.01946757, 0.008185934, 0.014556495, 0.006812995, 0.0098628625, 0.00088495255, 0.006872711, 0.00813239, 0.0006350567, 0.0074108504, 0.00139328, 0.0027454782, 0.0025624314, 0.005865119, 0.1336388, 0.012456385, 0.017076613, 0.0017890487, 0.004779947, 0.004012453, 0.007989466, 0.3651018, 0.042360332, 0.030065065, 0.07606852, 0.0036309378, 0.0057490766, 0.031018764, 0.027798494, 0.0038368485, 0.0023709114, 0.0021332984, 0.0061166333, 0.0023560298, 0.028907744, 0.017577434, 0.002677389], [0.015218411, 0.005677968, 0.0021210774, 0.0290443, 0.013899961, 0.11115607, 0.0041904454, 0.04821914, 0.01173859, 0.043792155, 0.00436769, 0.006856853, 0.022146164, 0.002123805, 0.0039183325, 0.027645843, 0.00085302064, 0.009177923, 0.0014891837, 0.003183899, 0.0015779773, 0.026330048, 0.013988972, 0.0025199603, 0.0020718048, 0.0016543933, 0.0043823407, 0.019351933, 0.021266812, 0.0183963, 0.0026456672, 0.041842166, 0.0019509202, 0.25239277, 0.002726682, 0.008809833, 0.007912624, 0.0007696931, 0.09827025, 0.026367987, 0.07624157, 0.026751818, 0.013811052, 0.0028430417, 0.0030004436, 0.0027759727, 0.17517526, 0.012671303, 0.0037214514, 0.007014898, 0.028040055, 0.008955079, 0.073837295, 0.01054949, 0.13757998, 0.012041618, 0.026379824, 0.043381207, 0.00093092525, 0.0064933323, 0.0020766405, 0.006312441, 0.0018916989, 0.0078767175, 0.084834166, 0.011363789, 0.012651545, 0.0036893971, 0.0073733795, 0.009645403, 0.014125957, 0.048177894, 0.031280562, 0.019386366, 0.074648835, 0.021041026, 0.0069512855, 0.03762274, 0.049054287, 0.033405956, 0.0027060148, 0.0036600758, 0.00840751, 0.0021601703, 0.058177684, 0.053991396, 0.027611416]]\n"
     ]
    }
   ],
   "source": [
    "print(f\"Playlist artists: {playlist_artists}\")\n",
    "print(f\"Playlist predictions: {playlist_predictions}\")"
   ]
  },
  {
   "cell_type": "code",
   "execution_count": 13,
   "metadata": {},
   "outputs": [
    {
     "name": "stdout",
     "output_type": "stream",
     "text": [
      "hiphop: 0.365524023771286\n",
      "rap: 0.18511901795864105\n",
      "electronic: 0.1704750657081604\n",
      "jazz: 0.1005338504910469\n",
      "pop: 0.09983273595571518\n"
     ]
    }
   ],
   "source": [
    "playlist_predictions = np.mean(playlist_predictions, axis=0)\n",
    "sorted_indices = playlist_predictions.argsort()\n",
    "top_5_indices = sorted_indices[-5:][::-1]\n",
    "for i in top_5_indices:\n",
    "    print(f\"{classes[i]}: {playlist_predictions[i]}\")"
   ]
  },
  {
   "cell_type": "code",
   "execution_count": 14,
   "metadata": {},
   "outputs": [
    {
     "name": "stdout",
     "output_type": "stream",
     "text": [
      "Title                          | Artist                         | Top 5 Genres\n",
      "---------------------------------------------------------------------------\n",
      "Un scratch, un beat, un rap    | Disiz La Peste                           | hiphop, rap, electronic, pop, reggae\n",
      "Africanize Dem                 | Patrice                                  | hiphop, electronic, rock, pop, alternative\n",
      "09 - Down For The Count (feat  | Talib Kweli & Hi-Tek                     | hiphop, rap, pop, reggae, electronic\n",
      "Papa ?                         | Hocus Pocus                              | hiphop, rap, electronic, jazz, ambient\n",
      "L’Empire du côté obscur        | IAM                                      | hiphop, rap, electronic, soundtrack, experimental\n",
      "01. LIGHT SPEED.flac.mp3       | Grieves                                  | hiphop, rap, pop, electronic, alternative\n",
      "Manque de Q                    | M                                        | reggae, rock, pop, alternative, electronic\n",
      "Right Thing (Z-Trip 'Set the   | DJ Shadow                                | electronic, experimental, alternative, hiphop, pop\n",
      "Why Me                         | Kinny & Horne                            | hiphop, electronic, reggae, pop, rap\n",
      "Outro / Radio Sucks / The Min  | Limp Bizkit feat. Matt Pinfield / Limp   | hiphop, electronic, rap, alternative, experimental\n",
      "Bar One                        | Dr. Dre feat. Traci Nelson, Ms. Roq & E  | hiphop, rap, reggae, electronic, experimental\n",
      "09. Like That feat. Special T  | Edo.g                                    | hiphop, rap, electronic, experimental, alternative\n",
      "Correct Techniques (over Comm  | Awon & Phoniks                           | hiphop, rap, electronic, experimental, jazz\n",
      "Équilibre                      | Hocus Pocus feat. Oxmo Puccino           | hiphop, rap, electronic, pop, rock\n",
      "Something About You            | Jin                                      | hiphop, rap, electronic, reggae, experimental\n",
      "Sign Of The Times              | Immortal Technique Ft. Cornel West, Cet  | hiphop, rap, electronic, experimental, pop\n",
      "Something Pt. 3                | Crown City Rockers                       | hiphop, electronic, pop, funk, rap\n",
      "Petit Chef                     | Les Blaireaux                            | rock, alternative, pop, reggae, indie\n",
      "check da grind feat. su da bo  | 40 Cal                                   | hiphop, rap, electronic, soul, reggae\n",
      "Thirsty Fish (feat. Raekwon &  | Wu-Tang Meets The Indie Culture          | hiphop, rap, electronic, triphop, soul\n"
     ]
    }
   ],
   "source": [
    "# search for songs that are similar to the custom playlist and have at least one of the top 5 genres\n",
    "results = collection_512.search(\n",
    "    data=[playlist_embedding],\n",
    "    anns_field=\"embedding\",\n",
    "    param={\"nprobe\": 16},\n",
    "    limit=120,\n",
    "    output_fields=[\"*\"],\n",
    "    filter=f'array_contains_any(top_5_genres, [\"hiphop\", \"reggae\", \"rock\", \"funk\"])'\n",
    ")\n",
    "\n",
    "print(f'{\"Title\":<30} | {\"Artist\":<30} | {\"Top 5 Genres\"}')\n",
    "print('-' * 75)\n",
    "\n",
    "already_proposed_artits = []\n",
    "count = 0\n",
    "\n",
    "# loop over the results and print only the ones that have artist not found in already proposed AND not found in the custom playlist\n",
    "for result in results[0]:\n",
    "    if result.artist in already_proposed_artits or result.artist in playlist_artists:\n",
    "        continue\n",
    "    if count >= 20:\n",
    "        break\n",
    "    already_proposed_artits.append(result.artist)\n",
    "    count += 1\n",
    "    print(f\"{result.title[:29]:<30} | {result.artist[:39]:<40} | {', '.join(result.top_5_genres)}\")\n",
    "    "
   ]
  },
  {
   "cell_type": "code",
   "execution_count": 15,
   "metadata": {},
   "outputs": [],
   "source": [
    "########################################"
   ]
  },
  {
   "cell_type": "code",
   "execution_count": 15,
   "metadata": {},
   "outputs": [
    {
     "data": {
      "text/plain": [
       "dict_keys(['filename', 'filepath', 'folder', 'filesize', 'title', 'artist', 'album', 'year', 'tracknumber', 'genre', 'predictions_87', 'embedding_512', 'top_5_genres'])"
      ]
     },
     "execution_count": 15,
     "metadata": {},
     "output_type": "execute_result"
    }
   ],
   "source": [
    "pkl_path = \"MegaSet/Amy Whinehouse/Amy Winehouse - 2006 - Back To Black/01 Rehab.pkl\"\n",
    "with open(pkl_path, \"rb\") as pkl_file:\n",
    "    data = pickle.load(pkl_file)\n",
    "data.keys()\n",
    "# data[\"embedding_512\"].shape\n",
    "# data[\"folder\"]"
   ]
  },
  {
   "cell_type": "code",
   "execution_count": 16,
   "metadata": {},
   "outputs": [
    {
     "data": {
      "text/plain": [
       "'Amy Winehouse - 2006 - Back To Black'"
      ]
     },
     "execution_count": 16,
     "metadata": {},
     "output_type": "execute_result"
    }
   ],
   "source": [
    "folder = data[\"folder\"].split(\"/\")[-1]\n",
    "folder"
   ]
  },
  {
   "cell_type": "code",
   "execution_count": 17,
   "metadata": {},
   "outputs": [
    {
     "name": "stdout",
     "output_type": "stream",
     "text": [
      "Title                          | Artist                         | Top 5 Genres\n",
      "---------------------------------------------------------------------------\n",
      "Rehab                          | Amy Winehouse                            | pop, rock, electronic, alternative, indie\n",
      "Gypsy                          | Nneka                                    | hiphop, electronic, rap, pop, triphop\n",
      "Piste 4                        | Beat Torrent                             | electronic, hiphop, rock, alternative, pop\n",
      "Yellow Submarine               | The Beatles                              | alternative, pop, rock, blues, indie\n",
      "Sweet Calling                  | Alice Russell                            | electronic, pop, funk, alternative, lounge\n",
      "Radio Ga Ga                    | Queen                                    | electronic, ambient, pop, easylistening, soundtrack\n",
      "Bragg Jack                     | Mano Negra                               | rock, pop, alternative, indie, poprock\n",
      "Daniella                       | The John Butler Trio                     | rock, alternative, pop, indie, electronic\n",
      "Elegy (London, UK)             | Youngblood Brass Band                    | hiphop, electronic, jazz, alternative, rap\n",
      "Let It Bleed                   | The Rolling Stones                       | pop, rock, alternative, blues, indie\n",
      "The Edge                       | Yuksek                                   | electronic, pop, dance, disco, house\n",
      "Its About You                  | Train                                    | rock, alternative, pop, indie, poprock\n",
      "08. PRESSURE CRACKS.flac.mp3   | Grieves                                  | hiphop, rock, pop, electronic, rap\n",
      "Sweet Calling                  | Quantic feat. Alice Russell              | electronic, pop, funk, alternative, lounge\n",
      "Revistas del corazón           | Ska-P                                    | rock, alternative, punkrock, indie, pop\n",
      "Peaches                        | Dub Pistols feat. Rodney P & Terry Hall  | hiphop, electronic, rock, pop, rap\n",
      "Piste 1                        | Les Barbeaux truités -No friture-        | reggae, rock, pop, world, alternative\n",
      "Try (Just a Little Bit Harder  | Kozmic Blues Band                        | rock, alternative, pop, funk, indie\n",
      "I.M.B.L                        | Billy Ze Kick                            | electronic, pop, hiphop, alternative, funk\n",
      "Go On                          | Dela feat. Reach                         | hiphop, rap, electronic, pop, rock\n"
     ]
    }
   ],
   "source": [
    "# propose une playlist de 20 chansons qui sont similaires et qui ne viennenet pas du meme dossier\n",
    "folder = data[\"folder\"].split(\"/\")[-1]\n",
    "\n",
    "results = collection_512.search(\n",
    "    data=[data['embedding_512']],\n",
    "    anns_field=\"embedding\",\n",
    "    param={\"nprobe\": 16},\n",
    "    limit=120,\n",
    "    output_fields=[\"*\"],\n",
    "    expr=f\"folder != '{folder}'\"\n",
    ")\n",
    "\n",
    "print(f'{\"Title\":<30} | {\"Artist\":<30} | {\"Top 5 Genres\"}')\n",
    "print('-' * 75)\n",
    "\n",
    "already_proposed_artits = []\n",
    "count = 0\n",
    "\n",
    "# loop over the results and print only the ones that have artist not found in already proposed AND not found in the custom playlist\n",
    "for result in results[0]:\n",
    "    if result.artist in already_proposed_artits or result.artist in playlist_artists:\n",
    "        continue\n",
    "    if count >= 20:\n",
    "        break\n",
    "    already_proposed_artits.append(result.artist)\n",
    "    count += 1\n",
    "    print(f\"{result.title[:29]:<30} | {result.artist[:39]:<40} | {', '.join(result.top_5_genres)}\")\n"
   ]
  },
  {
   "cell_type": "code",
   "execution_count": 18,
   "metadata": {},
   "outputs": [
    {
     "name": "stdout",
     "output_type": "stream",
     "text": [
      "Title                          | Artist                         | Top 5 Genres\n",
      "---------------------------------------------------------------------------\n",
      "Gypsy                          | Nneka                                    | hiphop, electronic, rap, pop, triphop\n",
      "Piste 4                        | Beat Torrent                             | electronic, hiphop, rock, alternative, pop\n",
      "Yellow Submarine               | The Beatles                              | alternative, pop, rock, blues, indie\n",
      "Sweet Calling                  | Alice Russell                            | electronic, pop, funk, alternative, lounge\n",
      "Radio Ga Ga                    | Queen                                    | electronic, ambient, pop, easylistening, soundtrack\n",
      "Bragg Jack                     | Mano Negra                               | rock, pop, alternative, indie, poprock\n",
      "Daniella                       | The John Butler Trio                     | rock, alternative, pop, indie, electronic\n",
      "Elegy (London, UK)             | Youngblood Brass Band                    | hiphop, electronic, jazz, alternative, rap\n",
      "Let It Bleed                   | The Rolling Stones                       | pop, rock, alternative, blues, indie\n",
      "The Edge                       | Yuksek                                   | electronic, pop, dance, disco, house\n",
      "Its About You                  | Train                                    | rock, alternative, pop, indie, poprock\n",
      "08. PRESSURE CRACKS.flac.mp3   | Grieves                                  | hiphop, rock, pop, electronic, rap\n",
      "Sweet Calling                  | Quantic feat. Alice Russell              | electronic, pop, funk, alternative, lounge\n",
      "Revistas del corazón           | Ska-P                                    | rock, alternative, punkrock, indie, pop\n",
      "Peaches                        | Dub Pistols feat. Rodney P & Terry Hall  | hiphop, electronic, rock, pop, rap\n",
      "Piste 1                        | Les Barbeaux truités -No friture-        | reggae, rock, pop, world, alternative\n",
      "Try (Just a Little Bit Harder  | Kozmic Blues Band                        | rock, alternative, pop, funk, indie\n",
      "I.M.B.L                        | Billy Ze Kick                            | electronic, pop, hiphop, alternative, funk\n",
      "Go On                          | Dela feat. Reach                         | hiphop, rap, electronic, pop, rock\n",
      "The Only One                   | The Black Keys                           | pop, alternative, rock, indie, electronic\n"
     ]
    }
   ],
   "source": [
    "# propose une playlist de 20 chansons qui sont similaires et qui ne viennenet pas du meme artiste\n",
    "\n",
    "results = collection_512.search(\n",
    "    data=[data['embedding_512']],\n",
    "    anns_field=\"embedding\",\n",
    "    param={\"nprobe\": 16},\n",
    "    limit=120,\n",
    "    output_fields=[\"*\"],\n",
    "    expr=f\"artist != '{data['artist']}'\"\n",
    ")\n",
    "\n",
    "print(f'{\"Title\":<30} | {\"Artist\":<30} | {\"Top 5 Genres\"}')\n",
    "print('-' * 75)\n",
    "\n",
    "already_proposed_artits = []\n",
    "count = 0\n",
    "\n",
    "# loop over the results and print only the ones that have artist not found in already proposed AND not found in the custom playlist\n",
    "for result in results[0]:\n",
    "    if result.artist in already_proposed_artits or result.artist in playlist_artists:\n",
    "        continue\n",
    "    if count >= 20:\n",
    "        break\n",
    "    already_proposed_artits.append(result.artist)\n",
    "    count += 1\n",
    "    print(f\"{result.title[:29]:<30} | {result.artist[:39]:<40} | {', '.join(result.top_5_genres)}\")\n"
   ]
  },
  {
   "cell_type": "code",
   "execution_count": 19,
   "metadata": {},
   "outputs": [],
   "source": [
    "def create_client():\n",
    "    import requests\n",
    "    id=6548\n",
    "    url = f\"{URI}/v1/vector/query\"\n",
    "    payload = f'{{\"collectionName\":\"embeddings_512\",\"filter\":\"id in [{id}]\"}}'\n",
    "    headers = {\n",
    "        \"Authorization\": f\"Bearer {TOKEN}\",\n",
    "        \"Accept\": \"application/json\",\n",
    "        \"Content-Type\": \"application/json\",\n",
    "    }\n",
    "    response = requests.post(url, data=payload, headers=headers).json()\n",
    "    embedding = response.get(\"data\")[0].get(\"embedding\")\n",
    "\n",
    "    connections.connect(uri=URI, token=TOKEN)\n",
    "    collection_512 = Collection(name=\"embeddings_512\")\n",
    "\n",
    "    search_result = collection_512.search(\n",
    "        data=[embedding],\n",
    "        anns_field=\"embedding\",\n",
    "        param={\"nprobe\": 16},\n",
    "        limit=9,\n",
    "        offset=1,\n",
    "        output_fields=[\"id\", \"path\"]\n",
    "    )\n",
    "\n",
    "    return search_result[0]"
   ]
  },
  {
   "cell_type": "code",
   "execution_count": 20,
   "metadata": {},
   "outputs": [
    {
     "name": "stdout",
     "output_type": "stream",
     "text": [
      "MegaSet/Jack Johnson/Jack Johnson - 2003 - On and on2/02-The Horizon Has Been Defeated.mp3\n",
      "5876\n",
      "MegaSet/Winston Mc Anuff/Winston McAnuff - 2008 - Nostradamus/10 - The Pack.mp3\n",
      "838\n",
      "MegaSet/Paul Simon/Paul Simon - (1975) - Still Crazy After All These Years [Bonus Tracks]/04.  50 Ways To Leave Your Lover.mp3\n",
      "16277\n",
      "MegaSet/Yellow Umbrella/Yellow Umbrella [2007] - Little Planet/04_yellow_umbrella_-_energie.mp3\n",
      "12076\n",
      "MegaSet/Yellow Umbrella/Yellow Umbrella [2007] - Little Planet/08_yellow_umbrella_-_new_time_warrior.mp3\n",
      "12068\n",
      "MegaSet/Dub Incorporation/2003 - Diversite/08 - Lechiquier.mp3\n",
      "3559\n",
      "MegaSet/Winston Mc Anuff/Winston McAnuff - 2008 - Nostradamus/04 - Vain Imagining.mp3\n",
      "839\n",
      "MegaSet/Groundation/2006 - Upon the Bridge/09_groundation-mighty_souls.mp3\n",
      "12962\n",
      "MegaSet/Groundation/best of groundation/09_groundation-mighty_souls.mp3\n",
      "12896\n"
     ]
    }
   ],
   "source": [
    "result = create_client()\n",
    "for i in result:\n",
    "    print(i.path)\n",
    "    print(i.id)"
   ]
  }
 ],
 "metadata": {
  "kernelspec": {
   "display_name": ".venv",
   "language": "python",
   "name": "python3"
  },
  "language_info": {
   "codemirror_mode": {
    "name": "ipython",
    "version": 3
   },
   "file_extension": ".py",
   "mimetype": "text/x-python",
   "name": "python",
   "nbconvert_exporter": "python",
   "pygments_lexer": "ipython3",
   "version": "3.10.12"
  }
 },
 "nbformat": 4,
 "nbformat_minor": 2
}
