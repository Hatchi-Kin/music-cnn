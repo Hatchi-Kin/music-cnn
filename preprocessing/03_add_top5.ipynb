{
 "cells": [
  {
   "cell_type": "code",
   "execution_count": null,
   "metadata": {},
   "outputs": [],
   "source": [
    "import os\n",
    "import pickle\n",
    "import random\n",
    "\n",
    "from pathlib import Path\n",
    "from utils.music_utils import *\n",
    "\n",
    "import numpy as np"
   ]
  },
  {
   "cell_type": "code",
   "execution_count": null,
   "metadata": {},
   "outputs": [],
   "source": [
    "DATASET = Path(\"MegaSet\")\n",
    "\n",
    "mp3_files = list(DATASET.glob(\"**/*.mp3\"))\n",
    "print(\"Found {} mp3 files\".format(len(mp3_files)))"
   ]
  },
  {
   "cell_type": "code",
   "execution_count": null,
   "metadata": {},
   "outputs": [],
   "source": [
    "valid_mp3_files = []\n",
    "invalid_mp3_files = []\n",
    "total_mp3_files = len(mp3_files)\n",
    "\n",
    "for mp3_file in mp3_files:\n",
    "    if not check_predictions_87(mp3_file) or not check_embeddings_512(mp3_file):\n",
    "        invalid_mp3_files.append(mp3_file)\n",
    "    else:\n",
    "        valid_mp3_files.append(mp3_file)\n",
    "\n",
    "# calculate the percentage of valid mp3 files\n",
    "percentage_valid = len(valid_mp3_files) / total_mp3_files * 100\n",
    "print(f\"found {len(valid_mp3_files)} valid pkl files out of {total_mp3_files}, percentage valid: {percentage_valid:.2f}%\")"
   ]
  },
  {
   "cell_type": "code",
   "execution_count": null,
   "metadata": {},
   "outputs": [],
   "source": [
    "pkl_files = list(DATASET.glob(\"**/*.pkl\"))\n",
    "long_fields = []\n",
    "for path in pkl_files:\n",
    "    with path.open(\"rb\") as f:\n",
    "        file_info = pickle.load(f)\n",
    "        title = file_info.get(\"title\")\n",
    "        artist = file_info.get(\"artist\")\n",
    "        if (\n",
    "            (not title or len(title) > 160)\n",
    "            or (not artist or len(artist) > 160)\n",
    "        ):\n",
    "            long_fields.append(path)\n",
    "\n",
    "# Print the paths of the files with a title or artist field of length > 120\n",
    "for path in long_fields:\n",
    "    print(path)"
   ]
  },
  {
   "cell_type": "code",
   "execution_count": null,
   "metadata": {},
   "outputs": [],
   "source": [
    "#######################################################################################\"\""
   ]
  },
  {
   "cell_type": "code",
   "execution_count": null,
   "metadata": {},
   "outputs": [],
   "source": [
    "# for each mp3 file in Path(), pass the path of mp3 file to file \n",
    "# and path to openl3-music-mel128-emb512-3.pb to the function get_top_5_genres\n",
    "# data[\"top_5_genres\"] = get_top_5_genres(file, path)\n",
    "# then add the new field to the pkl file and save it\n",
    "\n",
    "pkl_files = list(DATASET.glob(\"**/*.pkl\"))\n",
    "\n",
    "for path in pkl_files:\n",
    "    with path.open(\"rb\") as f:\n",
    "        file_info = pickle.load(f)\n",
    "        top5_list = get_top_5_genres(file_info[\"filepath\"], \"utils/mtg_jamendo_genre.json\")\n",
    "        file_info['top_5_genres'] = top5_list\n",
    "        with path.open(\"wb\") as f:\n",
    "            pickle.dump(file_info, f)"
   ]
  },
  {
   "cell_type": "code",
   "execution_count": null,
   "metadata": {},
   "outputs": [],
   "source": [
    "print_info(pick_random_mp3(DATASET))"
   ]
  }
 ],
 "metadata": {
  "kernelspec": {
   "display_name": ".venv",
   "language": "python",
   "name": "python3"
  },
  "language_info": {
   "codemirror_mode": {
    "name": "ipython",
    "version": 3
   },
   "file_extension": ".py",
   "mimetype": "text/x-python",
   "name": "python",
   "nbconvert_exporter": "python",
   "pygments_lexer": "ipython3",
   "version": "3.10.12"
  }
 },
 "nbformat": 4,
 "nbformat_minor": 2
}
