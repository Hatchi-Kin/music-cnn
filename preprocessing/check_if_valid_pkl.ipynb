{
 "cells": [
  {
   "cell_type": "code",
   "execution_count": null,
   "metadata": {},
   "outputs": [],
   "source": [
    "from utils.music_utils import *\n",
    "from pathlib import Path\n",
    "\n",
    "import sqlite3\n",
    "\n",
    "DATASET = Path('MegaSet')"
   ]
  },
  {
   "cell_type": "code",
   "execution_count": null,
   "metadata": {},
   "outputs": [],
   "source": [
    "list_of_mp3s = list(DATASET.rglob(\"*.mp3\"))\n",
    "invalid_files = []\n",
    "for mp3 in list_of_mp3s:\n",
    "    if not check_predictions_87(mp3) or not check_embeddings_512(mp3):# or check_file_info(mp3) is False:\n",
    "        invalid_files.append(mp3)\n",
    "        \n",
    "print(f\"Invalid files: {len(invalid_files)}\")"
   ]
  },
  {
   "cell_type": "code",
   "execution_count": null,
   "metadata": {},
   "outputs": [],
   "source": [
    "len(list_of_mp3s)"
   ]
  },
  {
   "cell_type": "code",
   "execution_count": null,
   "metadata": {},
   "outputs": [],
   "source": [
    "count = 0\n",
    "\n",
    "for mp3 in list_of_mp3s:\n",
    "    if check_predictions_87(mp3):\n",
    "        count += 1  \n",
    "print(f\"Valid files: {count}\")"
   ]
  },
  {
   "cell_type": "code",
   "execution_count": null,
   "metadata": {},
   "outputs": [],
   "source": [
    "count = 0\n",
    "\n",
    "for mp3 in list_of_mp3s:\n",
    "    if check_embeddings_512(mp3):\n",
    "        count += 1  \n",
    "print(f\"Valid files: {count}\")"
   ]
  },
  {
   "cell_type": "code",
   "execution_count": null,
   "metadata": {},
   "outputs": [],
   "source": [
    "conn = sqlite3.connect('music.db')\n",
    "c = conn.cursor()\n",
    "table_name = 'songs'\n",
    "\n",
    "# for each row, check if album and alum_foler are the same AND contains the same number of songs /\n",
    "# if so, then add to checklist\n",
    "\n",
    "checklist = []\n",
    "\n",
    "for row in c.execute(f'SELECT * FROM {table_name}'):\n",
    "    album_folder = row[3]\n",
    "    album = row[8]\n",
    "    if album_folder is not None and album is not None:\n",
    "        if album_folder == album:\n",
    "            checklist.append(album_folder)\n",
    "\n",
    "print(f\"Checklist: {len(checklist)}\")"
   ]
  },
  {
   "cell_type": "code",
   "execution_count": null,
   "metadata": {},
   "outputs": [],
   "source": [
    "# is \"MegaSet/Aerial_Carbon_Pseudonyme_EP/Aerial Carbon - Pseudonyme EP\"  in checklist?\n",
    "\n",
    "if \"MegaSet/Aerial_Carbon_Pseudonyme_EP/Aerial Carbon - Pseudonyme EP\" in checklist:\n",
    "    print(\"Yes\")\n"
   ]
  },
  {
   "cell_type": "code",
   "execution_count": null,
   "metadata": {},
   "outputs": [],
   "source": [
    "for i in checklist:\n",
    "    print(i)"
   ]
  }
 ],
 "metadata": {
  "kernelspec": {
   "display_name": ".venv",
   "language": "python",
   "name": "python3"
  },
  "language_info": {
   "codemirror_mode": {
    "name": "ipython",
    "version": 3
   },
   "file_extension": ".py",
   "mimetype": "text/x-python",
   "name": "python",
   "nbconvert_exporter": "python",
   "pygments_lexer": "ipython3",
   "version": "3.10.12"
  }
 },
 "nbformat": 4,
 "nbformat_minor": 2
}
