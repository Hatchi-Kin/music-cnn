{
 "cells": [
  {
   "cell_type": "code",
   "execution_count": null,
   "metadata": {},
   "outputs": [],
   "source": [
    "import pickle\n",
    "import random\n",
    "from pathlib import Path\n",
    "import json\n",
    "import music_tag\n",
    "import numpy as np\n",
    "import os\n",
    "from utils.music_utils import *\n",
    "\n",
    "from pymilvus import connections, utility\n",
    "from pymilvus import Collection, DataType, FieldSchema, CollectionSchema"
   ]
  },
  {
   "cell_type": "code",
   "execution_count": null,
   "metadata": {},
   "outputs": [],
   "source": [
    "DATASET = Path('MegaSet')\n",
    "# count the mp3 and pkl files in DATASET\n",
    "\n",
    "count_mp3 = 0   \n",
    "count_pkl = 0\n",
    "for root, dirs, files in os.walk(DATASET):\n",
    "    for file in files:\n",
    "        if file.endswith('.mp3'):\n",
    "            count_mp3 += 1\n",
    "        if file.endswith('.pkl'):\n",
    "            count_pkl += 1\n",
    "print(f\"founds {count_mp3} mp3 files and {count_pkl} pkl files\")"
   ]
  },
  {
   "cell_type": "code",
   "execution_count": null,
   "metadata": {},
   "outputs": [],
   "source": [
    "pkl_files = list(DATASET.glob('**/*.pkl'))\n",
    "\n",
    "types87 = []\n",
    "types512 = []\n",
    "\n",
    "for pkl_path in pkl_files:\n",
    "    with pkl_path.open('rb') as f:\n",
    "        try:\n",
    "            content = pickle.load(f)\n",
    "            embed = content.get('embedding_512')\n",
    "            if embed is not None:\n",
    "                types87.append(type(embed))\n",
    "                types512.append(type(embed))\n",
    "        except Exception as e:\n",
    "            print(f\"Error reading file {pkl_path}: {e}\")\n",
    "\n",
    "unique_types87 = set(types87)\n",
    "unique_types512 = set(types512)\n",
    "\n",
    "print(f\"Unique types 87: {unique_types87}\")\n",
    "print(f\"Unique types 512: {unique_types512}\")"
   ]
  },
  {
   "cell_type": "code",
   "execution_count": null,
   "metadata": {},
   "outputs": [],
   "source": [
    "print_info(pick_random_mp3(DATASET))"
   ]
  },
  {
   "cell_type": "code",
   "execution_count": null,
   "metadata": {},
   "outputs": [],
   "source": [
    "########## Milvus Client ##########"
   ]
  },
  {
   "cell_type": "code",
   "execution_count": null,
   "metadata": {},
   "outputs": [],
   "source": [
    "from dotenv import load_dotenv\n",
    "import os\n",
    "load_dotenv()\n",
    "\n",
    "URI = os.getenv(\"MILVUS_URI\")\n",
    "TOKEN = os.getenv(\"MILVUS_TOKEN\")"
   ]
  },
  {
   "cell_type": "code",
   "execution_count": null,
   "metadata": {},
   "outputs": [],
   "source": [
    "# connect to milvus\n",
    "connections.connect(\"default\",\n",
    "                    uri=URI,\n",
    "                    token=TOKEN)\n",
    "print(f\"Connecting to DB: {URI}\")"
   ]
  },
  {
   "cell_type": "code",
   "execution_count": null,
   "metadata": {},
   "outputs": [],
   "source": [
    "########## predictions_87 ##########"
   ]
  },
  {
   "cell_type": "code",
   "execution_count": null,
   "metadata": {},
   "outputs": [],
   "source": [
    "print(utility.list_collections())"
   ]
  },
  {
   "cell_type": "code",
   "execution_count": null,
   "metadata": {},
   "outputs": [],
   "source": [
    "# Check if the collection exists\n",
    "check_collection_name = 'predictions_87'\n",
    "\n",
    "check_collection = utility.has_collection(check_collection_name )\n",
    "if check_collection:\n",
    "    drop_result = utility.drop_collection(check_collection_name )\n",
    "\n",
    "print(utility.list_collections())"
   ]
  },
  {
   "cell_type": "code",
   "execution_count": null,
   "metadata": {},
   "outputs": [],
   "source": [
    "# create a collection for prediction_87\n",
    "collection_name = \"predictions_87\"\n",
    "dimension = 87\n",
    "\n",
    "# Define the schema\n",
    "schema = CollectionSchema(\n",
    "    fields=[\n",
    "        FieldSchema(name=\"id\",dtype=DataType.INT64,is_primary=True,auto_id=False,max_length=100),\n",
    "        FieldSchema(name=\"path\", dtype=DataType.VARCHAR, max_length=280),\n",
    "        FieldSchema(name=\"title\", dtype=DataType.VARCHAR, max_length=220),\n",
    "        FieldSchema(name=\"artist\", dtype=DataType.VARCHAR, max_length=120),\n",
    "        FieldSchema(name=\"album\", dtype=DataType.VARCHAR, max_length=240),\n",
    "        FieldSchema(name=\"predictions\", dtype=DataType.FLOAT_VECTOR, dim=dimension),\n",
    "        FieldSchema(name=\"top_5_genres\", dtype=DataType.ARRAY, element_type=DataType.VARCHAR, max_capacity=5, max_length=100),\n",
    "        ],\n",
    "    enable_dynamic_field=True,  # Optional, defaults to 'False'.\n",
    ")\n",
    "\n",
    "print(f\"Creating example collection: {collection_name}\")\n",
    "collection = Collection(collection_name, schema)\n",
    "print(f\"Schema: {schema}\")\n",
    "print(\"Success!\")"
   ]
  },
  {
   "cell_type": "code",
   "execution_count": null,
   "metadata": {},
   "outputs": [],
   "source": [
    "import logging\n",
    "from multiprocessing import Pool\n",
    "\n",
    "# Set up logging\n",
    "logging.basicConfig(filename='app.log', filemode='w', format='%(name)s - %(levelname)s - %(message)s')\n",
    "\n",
    "\n",
    "def process_file(args):\n",
    "    i, path = args\n",
    "    try:\n",
    "        with open(path, \"rb\") as f:\n",
    "            data = pickle.load(f)\n",
    "            filepath = data.get(\"filepath\")\n",
    "            title = data.get(\"title\")\n",
    "            album = data.get(\"album\")\n",
    "            artist = data.get(\"artist\")\n",
    "            predictions = data.get(\"predictions_87\")\n",
    "            top_5_genres = data.get(\"top_5_genres\")\n",
    "\n",
    "        if isinstance(predictions, np.ndarray):\n",
    "            return (i, filepath, title, album, artist, predictions, top_5_genres)\n",
    "    except Exception as e:\n",
    "        logging.error(f\"Error processing file {path}: {str(e)}\")\n",
    "        return None"
   ]
  },
  {
   "cell_type": "code",
   "execution_count": null,
   "metadata": {},
   "outputs": [],
   "source": [
    "# Use a multiprocessing pool to process the files in parallel\n",
    "with Pool() as p:\n",
    "    results = p.map(process_file, enumerate(pkl_files))\n",
    "\n",
    "# Filter out None results\n",
    "results = [r for r in results if r is not None]\n",
    "\n",
    "# Batch size\n",
    "batch_size = 18\n",
    "\n",
    "fails = []\n",
    "\n",
    "# Insert the data into the collection\n",
    "for i in range(0, len(results), batch_size):\n",
    "    id_batch, path_batch, title_batch, album_batch, artist_batch, predictions_batch, top_5_genres_batch = zip(*results[i : i + batch_size])\n",
    "    documents = [\n",
    "        {\n",
    "            \"id\": id,\n",
    "            \"path\": path,\n",
    "            \"title\": title,\n",
    "            \"album\": album,\n",
    "            \"artist\": artist,\n",
    "            \"predictions\": predictions.tolist(),\n",
    "            \"top_5_genres\": top_5_genres\n",
    "        }\n",
    "        for id, path, title, album, artist, predictions, top_5_genres in zip(\n",
    "            id_batch, path_batch, title_batch, album_batch, artist_batch, predictions_batch, top_5_genres_batch,\n",
    "        )\n",
    "    ]\n",
    "    try:\n",
    "        collection.insert(documents)\n",
    "        print(f\"Inserted {i + batch_size} records into collection {collection.name}.\")\n",
    "    except Exception as e:\n",
    "        fails.append((i + batch_size, documents))\n",
    "        print(f\"Error inserting batch {i + batch_size} into collection {collection.name}. Error: {str(e)}\")\n",
    "\n",
    "# 3m3s"
   ]
  },
  {
   "cell_type": "code",
   "execution_count": null,
   "metadata": {},
   "outputs": [],
   "source": [
    "print(f\"Failed batches: {fails}\")"
   ]
  },
  {
   "cell_type": "code",
   "execution_count": null,
   "metadata": {},
   "outputs": [],
   "source": [
    "index = {\n",
    "    \"index_type\": \"IVF_FLAT\",\n",
    "    \"metric_type\": \"L2\",\n",
    "    \"params\": {\"nlist\": 128},\n",
    "}\n",
    "collection.create_index(field_name=\"predictions\", index_params=index)"
   ]
  },
  {
   "cell_type": "code",
   "execution_count": null,
   "metadata": {},
   "outputs": [],
   "source": [
    "collection.load()"
   ]
  },
  {
   "cell_type": "code",
   "execution_count": null,
   "metadata": {},
   "outputs": [],
   "source": [
    "random_song = pick_random_mp3(DATASET).with_suffix(\".pkl\")\n",
    "print(f\"Random mp3: {random_song}\")\n",
    "print(get_top_5_genres(random_song, \"utils/mtg_jamendo_genre.json\"))\n",
    "\n",
    "with open(random_song, \"rb\") as f:\n",
    "    file_info = pickle.load(f)\n",
    "    query_embed = file_info.get(\"predictions_87\")\n",
    "    \n",
    "search_params = {\"metric_type\": \"L2\", \"params\": {\"nprobe\": 10}}\n",
    "result = collection.search([query_embed], \"predictions\", search_params, limit=10,offset=1, output_fields=[\"path\"])\n",
    "print('\\n')\n",
    "for element in result[0]:\n",
    "    print(element)"
   ]
  },
  {
   "cell_type": "code",
   "execution_count": null,
   "metadata": {},
   "outputs": [],
   "source": [
    "########## embedding_512 ##########"
   ]
  },
  {
   "cell_type": "code",
   "execution_count": null,
   "metadata": {},
   "outputs": [],
   "source": [
    "print(utility.list_collections())"
   ]
  },
  {
   "cell_type": "code",
   "execution_count": null,
   "metadata": {},
   "outputs": [],
   "source": [
    "# Check if the collection exists\n",
    "check_collection_name = 'embeddings_512'\n",
    "\n",
    "check_collection = utility.has_collection(check_collection_name )\n",
    "if check_collection:\n",
    "    drop_result = utility.drop_collection(check_collection_name )\n",
    "\n",
    "print(utility.list_collections())"
   ]
  },
  {
   "cell_type": "code",
   "execution_count": null,
   "metadata": {},
   "outputs": [],
   "source": [
    "# create a collection for embeddings_512\n",
    "collection_name = \"embeddings_512\"\n",
    "dimension = 512\n",
    "\n",
    "# Define the schema\n",
    "schema = CollectionSchema(\n",
    "    fields=[\n",
    "        FieldSchema(name=\"id\",dtype=DataType.INT64,is_primary=True,auto_id=False,max_length=100),\n",
    "        FieldSchema(name=\"path\", dtype=DataType.VARCHAR, max_length=280),\n",
    "        FieldSchema(name=\"title\", dtype=DataType.VARCHAR, max_length=220),\n",
    "        FieldSchema(name=\"album\", dtype=DataType.VARCHAR, max_length=240),\n",
    "        FieldSchema(name=\"artist\", dtype=DataType.VARCHAR, max_length=120),\n",
    "        FieldSchema(name=\"embedding\", dtype=DataType.FLOAT_VECTOR, dim=dimension),\n",
    "        FieldSchema(name=\"top_5_genres\",dtype=DataType.ARRAY,element_type=DataType.VARCHAR,max_capacity=5,max_length=100),\n",
    "    ],\n",
    "    enable_dynamic_field=True,  # Optional, defaults to 'False'.\n",
    ")\n",
    "\n",
    "print(f\"Creating example collection: {collection_name}\")\n",
    "collection = Collection(collection_name, schema)\n",
    "print(f\"Schema: {schema}\")\n",
    "print(\"Success!\")"
   ]
  },
  {
   "cell_type": "code",
   "execution_count": null,
   "metadata": {},
   "outputs": [],
   "source": [
    "def process_file(args):\n",
    "    i, path = args\n",
    "    try:\n",
    "        with open(path, \"rb\") as f:\n",
    "            data = pickle.load(f)\n",
    "            filepath = data.get(\"filepath\")\n",
    "            title = data.get(\"title\")\n",
    "            album = data.get(\"album\")\n",
    "            artist = data.get(\"artist\")\n",
    "            predictions = data.get(\"embedding_512\") #\n",
    "            top_5_genres = data.get(\"top_5_genres\")\n",
    "\n",
    "        if isinstance(predictions, np.ndarray):\n",
    "            return (i, filepath, title, album, artist, predictions, top_5_genres)\n",
    "    except Exception as e:\n",
    "        logging.error(f\"Error processing file {path}: {str(e)}\")\n",
    "        return None"
   ]
  },
  {
   "cell_type": "code",
   "execution_count": null,
   "metadata": {},
   "outputs": [],
   "source": [
    "# Use a multiprocessing pool to process the files in parallel\n",
    "with Pool() as p:\n",
    "    results = p.map(process_file, enumerate(pkl_files))\n",
    "\n",
    "# Filter out None results\n",
    "results = [r for r in results if r is not None]\n",
    "\n",
    "# Batch size\n",
    "batch_size = 18\n",
    "\n",
    "fails = []\n",
    "\n",
    "# Insert the data into the collection\n",
    "for i in range(0, len(results), batch_size):\n",
    "    id_batch, path_batch, title_batch, album_batch, artist_batch, embeddings_batch, top_5_genres_batch = zip(*results[i : i + batch_size])\n",
    "    documents = [\n",
    "        {\n",
    "            \"id\": id,\n",
    "            \"path\": path,\n",
    "            \"title\": title,\n",
    "            \"album\": album,\n",
    "            \"artist\": artist,\n",
    "            \"embedding\": embeddings.tolist(),\n",
    "            \"top_5_genres\": top_5_genres\n",
    "        }\n",
    "        for id, path, title, album, artist, embeddings, top_5_genres in zip(\n",
    "            id_batch, path_batch, title_batch, album_batch, artist_batch, embeddings_batch, top_5_genres_batch,\n",
    "        )\n",
    "    ]\n",
    "    try:\n",
    "        collection.insert(documents)\n",
    "        print(f\"Inserted {i + batch_size} records into collection {collection.name}.\")\n",
    "    except Exception as e:\n",
    "        fails.append((i + batch_size, documents))\n",
    "        print(f\"Error inserting batch {i + batch_size} into collection {collection.name}. Error: {str(e)}\")\n",
    "\n",
    "# 3m 21s"
   ]
  },
  {
   "cell_type": "code",
   "execution_count": null,
   "metadata": {},
   "outputs": [],
   "source": [
    "print(f\"Failed batches: {fails}\")"
   ]
  },
  {
   "cell_type": "code",
   "execution_count": null,
   "metadata": {},
   "outputs": [],
   "source": [
    "index = {\n",
    "    \"index_type\": \"IVF_FLAT\",\n",
    "    \"metric_type\": \"L2\",\n",
    "    \"params\": {\"nlist\": 128},\n",
    "}\n",
    "collection.create_index(field_name=\"embedding\", index_params=index)"
   ]
  },
  {
   "cell_type": "code",
   "execution_count": null,
   "metadata": {},
   "outputs": [],
   "source": [
    "collection.load()"
   ]
  },
  {
   "cell_type": "code",
   "execution_count": null,
   "metadata": {},
   "outputs": [],
   "source": [
    "random_song = pick_random_mp3(DATASET).with_suffix(\".pkl\")\n",
    "print(f\"Random mp3: {random_song}\")\n",
    "print(get_top_5_genres(random_song, \"utils/mtg_jamendo_genre.json\"))\n",
    "\n",
    "with open(random_song, \"rb\") as f:\n",
    "    file_info = pickle.load(f)\n",
    "    query_embed = file_info.get(\"embedding_512\")\n",
    "    \n",
    "search_params = {\"metric_type\": \"L2\", \"params\": {\"nprobe\": 10}}\n",
    "result = collection.search([query_embed], \"embedding\", search_params, limit=10, offset=1, output_fields=[\"path\"])\n",
    "print('\\n')\n",
    "for element in result[0]:\n",
    "    print(element)"
   ]
  }
 ],
 "metadata": {
  "kernelspec": {
   "display_name": ".venv",
   "language": "python",
   "name": "python3"
  },
  "language_info": {
   "codemirror_mode": {
    "name": "ipython",
    "version": 3
   },
   "file_extension": ".py",
   "mimetype": "text/x-python",
   "name": "python",
   "nbconvert_exporter": "python",
   "pygments_lexer": "ipython3",
   "version": "3.10.12"
  }
 },
 "nbformat": 4,
 "nbformat_minor": 2
}
