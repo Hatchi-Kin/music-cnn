{
 "cells": [
  {
   "cell_type": "code",
   "execution_count": 1,
   "metadata": {},
   "outputs": [],
   "source": [
    "import os\n",
    "import tempfile\n",
    "import gc\n",
    "import shutil\n",
    "import glob\n",
    "\n",
    "import numpy as np\n",
    "import librosa\n",
    "import matplotlib.pyplot as plt\n",
    "from PIL import Image\n",
    "from torchvision import transforms"
   ]
  },
  {
   "cell_type": "code",
   "execution_count": 2,
   "metadata": {},
   "outputs": [],
   "source": [
    "def create_preprocessed_spectrogram(audio_path, sr=22050, n_mels=128, fmax=8000, img_size=(224, 224), start_time=20, segment_duration=20):\n",
    "    \"\"\"\n",
    "    Create a preprocessed spectrogram from an audio file segment.\n",
    "    Will generate a Mel spectrogram, plot it, and convert it to a tensor to be directly used with a model.\n",
    "\n",
    "    Parameters:\n",
    "    audio_path (str): Path to the audio file.\n",
    "    sr (int, optional): Sampling rate for loading the audio. Default is 22050.\n",
    "    n_mels (int, optional): Number of Mel bands to generate. Default is 128.\n",
    "    fmax (int, optional): Maximum frequency for the Mel spectrogram. Default is 8000.\n",
    "    img_size (tuple, optional): Size of the output image. Default is (224, 224).\n",
    "    start_time (int, optional): Start time of the segment in seconds. Default is 20.\n",
    "    segment_duration (int, optional): Duration of the segment in seconds. Default is 20.\n",
    "\n",
    "    Returns:\n",
    "    torch.Tensor: Preprocessed spectrogram as a tensor.\n",
    "    \"\"\"\n",
    "    try:\n",
    "        # Load the audio file\n",
    "        y, sr = librosa.load(audio_path, sr=sr, offset=start_time, duration=segment_duration)\n",
    "        \n",
    "        # Generate the spectrogram\n",
    "        S = librosa.feature.melspectrogram(y=y, sr=sr, n_mels=n_mels, fmax=fmax)\n",
    "        S_DB = librosa.power_to_db(S, ref=np.max)\n",
    "        \n",
    "        # Plot the spectrogram\n",
    "        plt.figure(figsize=(10, 4))\n",
    "        plt.axis('off')\n",
    "        librosa.display.specshow(S_DB, sr=sr, x_axis=None, y_axis=None, fmax=fmax)\n",
    "        \n",
    "        # Save the plot to a temporary file\n",
    "        with tempfile.NamedTemporaryFile(suffix='.png', delete=False) as tmpfile:\n",
    "            plt.savefig(tmpfile.name, bbox_inches='tight', pad_inches=0)\n",
    "            plt.close()\n",
    "            \n",
    "            # Open the image and resize it\n",
    "            img = Image.open(tmpfile.name).convert('RGB')  # Convert to RGB\n",
    "            img = img.resize(img_size, Image.Resampling.LANCZOS)\n",
    "            os.remove(tmpfile.name)\n",
    "        \n",
    "        # Transform the image to tensor\n",
    "        transform = transforms.Compose([\n",
    "            transforms.ToTensor(),\n",
    "            transforms.Normalize(mean=[0.5], std=[0.5])\n",
    "        ])\n",
    "        img_tensor = transform(img).unsqueeze(0)  # Add batch dimension\n",
    "        \n",
    "        return img_tensor\n",
    "    except Exception as e:\n",
    "        print(f\"Error processing {audio_path}: {e}\")\n",
    "        return None\n",
    "    \n",
    "\n",
    "def split_dataset_into_train_val_test(dataset_dir, output_dirs, test_ratio=0.05, val_ratio=0.15):\n",
    "    \"\"\"\n",
    "    Split the dataset into training, validation, and test sets.\n",
    "\n",
    "    Parameters:\n",
    "    dataset_dir (str): Path to the dataset directory containing genre subdirectories.\n",
    "    output_dirs (list): List of output directories for train, test, and validation sets.\n",
    "    test_ratio (float, optional): Proportion of the dataset to include in the test split. Default is 0.05.\n",
    "    val_ratio (float, optional): Proportion of the remaining dataset to include in the validation split. Default is 0.15.\n",
    "\n",
    "    Returns:\n",
    "    None\n",
    "    \"\"\"\n",
    "    train_dir, test_dir, val_dir = output_dirs\n",
    "\n",
    "    # Create folders for train, test, and validation data\n",
    "    for f in output_dirs:\n",
    "        if os.path.exists(f):\n",
    "            shutil.rmtree(f)\n",
    "        os.makedirs(f)\n",
    "\n",
    "    # Loop over all genres\n",
    "    genres = list(os.listdir(dataset_dir))\n",
    "    for g in genres:\n",
    "        # Find all images & split into train, test, and validation\n",
    "        src_file_paths = np.array(glob.glob(os.path.join(dataset_dir, f'{g}', \"*.png\")))\n",
    "        np.random.shuffle(src_file_paths)\n",
    "        \n",
    "        num_files = len(src_file_paths)\n",
    "        num_test = max(2, min(4, int(np.ceil(num_files * test_ratio))))\n",
    "        \n",
    "        test_files = src_file_paths[:num_test]\n",
    "        remaining_files = src_file_paths[num_test:]\n",
    "        \n",
    "        num_remaining = len(remaining_files)\n",
    "        num_val = int(np.ceil(num_remaining * val_ratio))\n",
    "        \n",
    "        val_files = remaining_files[:num_val]\n",
    "        train_files = remaining_files[num_val:]\n",
    "\n",
    "        # Make destination folders for train, test, and validation images\n",
    "        for f in output_dirs:\n",
    "            os.makedirs(os.path.join(f, g), exist_ok=True)\n",
    "\n",
    "        # Copy training, testing, and validation images\n",
    "        for f in train_files:\n",
    "            shutil.copy(f, os.path.join(train_dir, g, os.path.basename(f)))\n",
    "        for f in test_files:\n",
    "            shutil.copy(f, os.path.join(test_dir, g, os.path.basename(f)))\n",
    "        for f in val_files:\n",
    "            shutil.copy(f, os.path.join(val_dir, g, os.path.basename(f)))\n",
    "\n",
    "    print(f\"Dataset created in {train_dir}, {test_dir}, {val_dir}\")\n"
   ]
  },
  {
   "cell_type": "code",
   "execution_count": 3,
   "metadata": {},
   "outputs": [],
   "source": [
    "PATH_TO_SPECTROGRAM_DATASET = \"DATASET/spectrograms\"\n",
    "NAME_OF_DATASET = \"CNNSET\"\n",
    "folder_names = [f'DATASET/{NAME_OF_DATASET}/train/', f'DATASET/{NAME_OF_DATASET}/test/', f'DATASET/{NAME_OF_DATASET}/val/']\n",
    "\n",
    "# split_dataset_into_train_val_test(PATH_TO_SPECTROGRAM_DATASET, folder_names)"
   ]
  },
  {
   "cell_type": "code",
   "execution_count": null,
   "metadata": {},
   "outputs": [],
   "source": [
    "### DEFINE MODEL ###\n",
    "\n",
    "import torch\n",
    "import torch.nn as nn\n",
    "import torch.nn.functional as F"
   ]
  },
  {
   "cell_type": "code",
   "execution_count": 5,
   "metadata": {},
   "outputs": [],
   "source": [
    "class MusicNet(nn.Module):\n",
    "    def __init__(self, num_classes=18):\n",
    "        super(MusicNet, self).__init__()\n",
    "        self.conv1 = nn.Conv2d(in_channels=3, out_channels=8, kernel_size=3, stride=1, padding=1)\n",
    "        self.conv2 = nn.Conv2d(in_channels=8, out_channels=16, kernel_size=3, stride=1, padding=1)\n",
    "        self.conv3 = nn.Conv2d(in_channels=16, out_channels=32, kernel_size=3, stride=1, padding=1)\n",
    "        self.conv4 = nn.Conv2d(in_channels=32, out_channels=64, kernel_size=3, stride=1, padding=1)\n",
    "\n",
    "        self.batchnorm1 = nn.BatchNorm2d(num_features=8)\n",
    "        self.batchnorm2 = nn.BatchNorm2d(num_features=16)\n",
    "        self.batchnorm3 = nn.BatchNorm2d(num_features=32)\n",
    "        self.batchnorm4 = nn.BatchNorm2d(num_features=64)\n",
    "\n",
    "        self.dropout = nn.Dropout(p=0.3, inplace=False)\n",
    "\n",
    "        self._to_linear = None\n",
    "        self.convs(torch.randn(1, 3, 224, 224))\n",
    "        \n",
    "        self.fc1 = nn.Linear(in_features=self._to_linear, out_features=num_classes)\n",
    "\n",
    "    def convs(self, x):\n",
    "        x = self.conv1(x)\n",
    "        x = self.batchnorm1(x)\n",
    "        x = F.relu(x)\n",
    "        x = F.max_pool2d(x, kernel_size=2)\n",
    "\n",
    "        x = self.conv2(x)\n",
    "        x = self.batchnorm2(x)\n",
    "        x = F.relu(x)\n",
    "        x = F.max_pool2d(x, kernel_size=2)\n",
    "\n",
    "        x = self.conv3(x)\n",
    "        x = self.batchnorm3(x)\n",
    "        x = F.relu(x)\n",
    "        x = F.max_pool2d(x, kernel_size=2)\n",
    "\n",
    "        x = self.conv4(x)\n",
    "        x = self.batchnorm4(x)\n",
    "        x = F.relu(x)\n",
    "        x = F.max_pool2d(x, kernel_size=2)\n",
    "\n",
    "        if self._to_linear is None:\n",
    "            self._to_linear = x.view(x.size(0), -1).shape[1]\n",
    "        return x\n",
    "\n",
    "    def forward(self, x):\n",
    "        x = self.convs(x)\n",
    "        x = torch.flatten(x, 1)\n",
    "        x = self.dropout(x)\n",
    "        x = self.fc1(x)\n",
    "        return x"
   ]
  },
  {
   "cell_type": "code",
   "execution_count": 6,
   "metadata": {},
   "outputs": [],
   "source": [
    "### DATASET AND DATALOADER ###\n",
    "\n",
    "from torchvision import datasets\n",
    "from torch.utils.data import DataLoader"
   ]
  },
  {
   "cell_type": "code",
   "execution_count": 7,
   "metadata": {},
   "outputs": [
    {
     "data": {
      "text/plain": [
       "['DATASET/CNNSET/train/', 'DATASET/CNNSET/test/', 'DATASET/CNNSET/val/']"
      ]
     },
     "execution_count": 7,
     "metadata": {},
     "output_type": "execute_result"
    }
   ],
   "source": [
    "folder_names"
   ]
  },
  {
   "cell_type": "code",
   "execution_count": null,
   "metadata": {},
   "outputs": [],
   "source": [
    "train_dir = folder_names[0]\n",
    "test_dir = folder_names[1]\n",
    "val_dir = folder_names[2]\n",
    "\n",
    "# Define the transformations\n",
    "transform = transforms.Compose([\n",
    "    transforms.Resize((224, 224)),  # Resize to the desired size\n",
    "    transforms.ToTensor(),  # Convert to tensor\n",
    "    transforms.Normalize(mean=[0.5], std=[0.5])  # Normalize (adjust mean and std as needed)\n",
    "])\n",
    "\n",
    "# Load the datasets\n",
    "train_dataset = datasets.ImageFolder(root=train_dir, transform=transform)\n",
    "test_dataset = datasets.ImageFolder(root=test_dir, transform=transform)\n",
    "val_dataset = datasets.ImageFolder(root=val_dir, transform=transform)\n",
    "\n",
    "# Create DataLoaders\n",
    "train_loader = DataLoader(train_dataset, batch_size=25, shuffle=True, num_workers=2)\n",
    "test_loader = DataLoader(test_dataset, batch_size=25, shuffle=True, num_workers=2)\n",
    "val_loader = DataLoader(val_dataset, batch_size=25, shuffle=True, num_workers=2)"
   ]
  },
  {
   "cell_type": "code",
   "execution_count": 9,
   "metadata": {},
   "outputs": [
    {
     "data": {
      "text/plain": [
       "{'blues': 0,\n",
       " 'chanson': 1,\n",
       " 'classical': 2,\n",
       " 'country': 3,\n",
       " 'dance': 4,\n",
       " 'dub': 5,\n",
       " 'electro': 6,\n",
       " 'folk': 7,\n",
       " 'funk': 8,\n",
       " 'hard rock': 9,\n",
       " 'hip-hop': 10,\n",
       " 'house': 11,\n",
       " 'jazz': 12,\n",
       " 'metal': 13,\n",
       " 'pop': 14,\n",
       " 'rap': 15,\n",
       " 'reggae': 16,\n",
       " 'rock': 17}"
      ]
     },
     "execution_count": 9,
     "metadata": {},
     "output_type": "execute_result"
    }
   ],
   "source": [
    "train_dataset.class_to_idx # Mapping of class names to indices"
   ]
  },
  {
   "cell_type": "code",
   "execution_count": 10,
   "metadata": {},
   "outputs": [],
   "source": [
    "### TRAIN MODEL AND LOG INTO MLFLOW ###\n",
    "\n",
    "from datetime import datetime\n",
    "\n",
    "import mlflow\n",
    "from mlflow.tracking import MlflowClient"
   ]
  },
  {
   "cell_type": "code",
   "execution_count": 11,
   "metadata": {},
   "outputs": [
    {
     "data": {
      "text/plain": [
       "'15:45:00.7224'"
      ]
     },
     "execution_count": 11,
     "metadata": {},
     "output_type": "execute_result"
    }
   ],
   "source": [
    "def get_current_time_string():\n",
    "    # Get the current time\n",
    "    now = datetime.now()\n",
    "    # Format the time as a string with hours, minutes, seconds, and milliseconds\n",
    "    time_string = now.strftime(\"%H:%M:%S.%f\")[:-2]  # Remove the last 2 digits to get milliseconds\n",
    "    return time_string\n",
    "\n",
    "get_current_time_string()"
   ]
  },
  {
   "cell_type": "code",
   "execution_count": 12,
   "metadata": {},
   "outputs": [],
   "source": [
    "from dotenv import load_dotenv\n",
    "load_dotenv()\n",
    "\n",
    "MLFLOW_REMOTE_SERVER_URI = os.getenv(\"MLFLOW_REMOTE_SERVER_URI\")\n",
    "MLFLOW_TRACKING_USERNAME = os.getenv(\"MLFLOW_TRACKING_USERNAME\")\n",
    "MLFLOW_TRACKING_PASSWORD = os.getenv(\"MLFLOW_TRACKING_PASSWORD\")\n",
    "REMOTE_MLFLOW_STORAGE_URI = os.getenv(\"REMOTE_MLFLOW_STORAGE_URI\")\n",
    "AWS_ACCESS_KEY_ID = os.getenv(\"AWS_ACCESS_KEY_ID\")\n",
    "AWS_SECRET_ACCESS_KEY = os.getenv(\"AWS_SECRET_ACCESS_KEY\")"
   ]
  },
  {
   "cell_type": "code",
   "execution_count": 14,
   "metadata": {},
   "outputs": [],
   "source": [
    "# Set the tracking URI to point to your MLflow server\n",
    "mlflow.set_tracking_uri(MLFLOW_REMOTE_SERVER_URI)\n",
    "\n",
    "# Set the environment variables for authentication\n",
    "os.environ['MLFLOW_TRACKING_USERNAME'] = MLFLOW_TRACKING_USERNAME\n",
    "os.environ['MLFLOW_TRACKING_PASSWORD'] = MLFLOW_TRACKING_PASSWORD\n",
    "os.environ['MLFLOW_S3_ENDPOINT_URL'] = f'https://{REMOTE_MLFLOW_STORAGE_URI}'\n",
    "os.environ['AWS_ACCESS_KEY_ID'] = AWS_ACCESS_KEY_ID\n",
    "os.environ['AWS_SECRET_ACCESS_KEY'] = AWS_SECRET_ACCESS_KEY\n",
    "os.environ['MLFLOW_HTTP_REQUEST_TIMEOUT'] = '300' \n",
    "\n",
    "# Create an MLflow client\n",
    "mlflow_client = MlflowClient()\n",
    "# Create a new experiment\n",
    "experiment_name = f\"Music_Genre_Classification_V2_{get_current_time_string()}\"\n",
    "experiment_id = mlflow_client.create_experiment(experiment_name)"
   ]
  },
  {
   "cell_type": "code",
   "execution_count": 15,
   "metadata": {},
   "outputs": [],
   "source": [
    "def train_model(model, train_loader, val_loader, epochs, device, learning_rate=0.005):\n",
    "    criterion = nn.CrossEntropyLoss()\n",
    "    optimizer = torch.optim.Adam(model.parameters(), lr=learning_rate)\n",
    "    train_loss, val_loss = [], []\n",
    "    train_acc, val_acc = [], []\n",
    "\n",
    "    model.to(device)\n",
    "    \n",
    "    with mlflow.start_run(experiment_id=experiment_id, run_name=f\"Run at {get_current_time_string()}\"):\n",
    "        for epoch in range(epochs):\n",
    "            model.train()\n",
    "            running_loss, correct, total = 0.0, 0, 0\n",
    "            \n",
    "            for data, target in train_loader:\n",
    "                data, target = data.to(device), target.to(device)\n",
    "                optimizer.zero_grad()\n",
    "                output = model(data)\n",
    "                loss = criterion(output, target)\n",
    "                loss.backward()\n",
    "                optimizer.step()\n",
    "                \n",
    "                running_loss += loss.item()\n",
    "                _, predicted = torch.max(output, 1)\n",
    "                total += target.size(0)\n",
    "                correct += (predicted == target).sum().item()\n",
    "            \n",
    "            train_loss.append(running_loss / len(train_loader))\n",
    "            train_acc.append(correct / total)\n",
    "            \n",
    "            model.eval()\n",
    "            running_loss, correct, total = 0.0, 0, 0\n",
    "            \n",
    "            with torch.no_grad():\n",
    "                for data, target in val_loader:\n",
    "                    data, target = data.to(device), target.to(device)\n",
    "                    output = model(data)\n",
    "                    loss = criterion(output, target)\n",
    "                    running_loss += loss.item()\n",
    "                    _, predicted = torch.max(output, 1)\n",
    "                    total += target.size(0)\n",
    "                    correct += (predicted == target).sum().item()\n",
    "            \n",
    "            val_loss.append(running_loss / len(val_loader))\n",
    "            val_acc.append(correct / total)\n",
    "\n",
    "            if (epoch + 1) % 10 == 0:\n",
    "                print(f'Epoch {epoch+1}/{epochs}, Train Loss: {train_loss[-1]:.4f}, Train Acc: {train_acc[-1]:.4f}, Val Loss: {val_loss[-1]:.4f}, Val Acc: {val_acc[-1]:.4f}')\n",
    "            \n",
    "            # Log metrics to MLflow\n",
    "            mlflow.log_metric(\"train_loss\", train_loss[-1], step=epoch)\n",
    "            mlflow.log_metric(\"train_acc\", train_acc[-1], step=epoch)\n",
    "            mlflow.log_metric(\"val_loss\", val_loss[-1], step=epoch)\n",
    "            mlflow.log_metric(\"val_acc\", val_acc[-1], step=epoch)\n",
    "        \n",
    "        # Log the model to MLflow\n",
    "        mlflow.pytorch.log_model(model, \"model\")\n",
    "\n",
    "        # Register the model\n",
    "        run_id = mlflow.active_run().info.run_id\n",
    "        model_name = f\"MusicGenreModel_{get_current_time_string()}\"\n",
    "        model_uri = f\"runs:/{run_id}/model\"\n",
    "        mlflow.register_model(model_uri, model_name)\n",
    "        \n",
    "        # Get the artifact URI\n",
    "        artifact_uri = mlflow.get_artifact_uri(\"model\")\n",
    "    \n",
    "    return {'train_loss': train_loss, 'train_acc': train_acc, 'val_loss': val_loss, 'val_acc': val_acc, 'model_uri': model_uri, 'artifact_uri': artifact_uri}"
   ]
  },
  {
   "cell_type": "code",
   "execution_count": 2,
   "metadata": {},
   "outputs": [
    {
     "data": {
      "text/plain": [
       "device(type='cpu')"
      ]
     },
     "execution_count": 2,
     "metadata": {},
     "output_type": "execute_result"
    }
   ],
   "source": [
    "device = torch.device(\"cuda\" if torch.cuda.is_available() else \"cpu\")\n",
    "device"
   ]
  },
  {
   "cell_type": "code",
   "execution_count": null,
   "metadata": {},
   "outputs": [],
   "source": [
    "# # Train the model\n",
    "device = torch.device(\"cuda\" if torch.cuda.is_available() else \"cpu\")\n",
    "model = MusicNet(num_classes=len(train_dataset.classes))\n",
    "train_for_n_epochs = 100\n",
    "learning_rate = 0.005\n",
    "\n",
    "result_dict = train_model(\n",
    "    model, \n",
    "    train_loader, \n",
    "    val_loader, \n",
    "    epochs=train_for_n_epochs, \n",
    "    learning_rate=learning_rate, \n",
    "    device=device\n",
    "    )\n",
    "\n",
    "print()\n",
    "for key, value in result_dict.items():\n",
    "    print(f'{key}: {value}')\n"
   ]
  },
  {
   "cell_type": "code",
   "execution_count": null,
   "metadata": {},
   "outputs": [
    {
     "data": {
      "text/plain": [
       "<All keys matched successfully>"
      ]
     },
     "execution_count": 19,
     "metadata": {},
     "output_type": "execute_result"
    }
   ],
   "source": [
    "# Save the model locally\n",
    "name_of_model = f\"music_net_{train_for_n_epochs}_{learning_rate}.pth\"\n",
    "torch.save(model.state_dict(), f\"CNNSET/{name_of_model}\")\n",
    "\n",
    "# Load the model from local file\n",
    "local_model = MusicNet(num_classes=len(train_dataset.classes))\n",
    "local_model.load_state_dict(torch.load(f\"CNNSET/{name_of_model}\", weights_only=True))"
   ]
  },
  {
   "cell_type": "code",
   "execution_count": 20,
   "metadata": {},
   "outputs": [
    {
     "name": "stdout",
     "output_type": "stream",
     "text": [
      "Test Accuracy: 0.6154\n"
     ]
    }
   ],
   "source": [
    "# Evaluate the model\n",
    "local_model.eval()\n",
    "correct, total = 0, 0\n",
    "with torch.no_grad():\n",
    "    for data, target in test_loader:\n",
    "        data, target = data.to(device), target.to(device)\n",
    "        output = model(data)\n",
    "        _, predicted = torch.max(output, 1)\n",
    "        total += target.size(0)\n",
    "        correct += (predicted == target).sum().item()\n",
    "\n",
    "print(f\"Test Accuracy: {correct / total:.4f}\")"
   ]
  },
  {
   "cell_type": "code",
   "execution_count": null,
   "metadata": {},
   "outputs": [
    {
     "data": {
      "text/plain": [
       "array([[1, 0, 0, 0, 0, 0, 0, 0, 0, 0, 0, 0, 0, 0, 0, 0, 0, 0],\n",
       "       [0, 1, 0, 0, 0, 0, 0, 0, 1, 0, 0, 0, 0, 0, 0, 0, 0, 0],\n",
       "       [0, 0, 1, 0, 0, 0, 0, 0, 0, 0, 0, 0, 0, 0, 0, 0, 0, 0],\n",
       "       [0, 0, 0, 1, 0, 0, 0, 0, 0, 0, 0, 0, 0, 0, 0, 0, 0, 0],\n",
       "       [0, 0, 0, 0, 0, 1, 0, 0, 0, 0, 0, 0, 0, 0, 0, 0, 0, 0],\n",
       "       [0, 0, 0, 0, 0, 2, 0, 0, 0, 0, 0, 0, 0, 0, 0, 0, 0, 0],\n",
       "       [0, 0, 0, 0, 0, 0, 1, 0, 0, 0, 0, 0, 0, 0, 0, 0, 0, 0],\n",
       "       [0, 0, 0, 0, 0, 1, 0, 0, 0, 0, 0, 0, 0, 0, 0, 0, 0, 0],\n",
       "       [0, 0, 0, 0, 0, 0, 0, 0, 2, 0, 0, 0, 0, 0, 0, 0, 0, 0],\n",
       "       [0, 0, 0, 0, 0, 0, 0, 0, 0, 2, 0, 0, 0, 0, 0, 0, 0, 0],\n",
       "       [0, 0, 0, 0, 0, 0, 0, 0, 0, 0, 1, 1, 0, 0, 0, 0, 0, 0],\n",
       "       [0, 2, 0, 0, 0, 0, 0, 0, 0, 0, 0, 0, 0, 0, 0, 0, 0, 0],\n",
       "       [0, 0, 0, 0, 0, 0, 0, 0, 0, 0, 0, 0, 2, 0, 0, 0, 0, 0],\n",
       "       [0, 1, 0, 0, 0, 0, 0, 0, 0, 0, 0, 0, 0, 0, 0, 0, 0, 0],\n",
       "       [0, 0, 0, 0, 0, 0, 0, 0, 0, 0, 0, 0, 0, 1, 0, 0, 0, 0],\n",
       "       [0, 0, 0, 0, 0, 0, 0, 1, 0, 0, 0, 0, 0, 0, 0, 0, 0, 0],\n",
       "       [0, 0, 0, 0, 0, 0, 0, 0, 0, 0, 1, 0, 0, 0, 0, 0, 0, 0],\n",
       "       [0, 0, 0, 0, 0, 0, 0, 0, 0, 0, 0, 0, 0, 0, 0, 0, 0, 2]])"
      ]
     },
     "execution_count": 42,
     "metadata": {},
     "output_type": "execute_result"
    }
   ],
   "source": [
    "from sklearn.metrics import confusion_matrix\n",
    "\n",
    "# Evaluate the model and compute the confusion matrix\n",
    "local_model.eval()\n",
    "y_true, y_pred = [], []\n",
    "with torch.no_grad():\n",
    "    for data, target in test_loader:\n",
    "        data, target = data.to(device), target.to(device)\n",
    "        output = model(data)\n",
    "        _, predicted = torch.max(output, 1)\n",
    "        y_true.extend(target.cpu().numpy())\n",
    "        y_pred.extend(predicted.cpu().numpy())\n",
    "\n",
    "cm = confusion_matrix(y_true, y_pred)\n",
    "\n",
    "cm"
   ]
  },
  {
   "cell_type": "code",
   "execution_count": 44,
   "metadata": {},
   "outputs": [
    {
     "data": {
      "image/png": "[encoded data removed]",
      "text/plain": [
       "<Figure size 700x600 with 2 Axes>"
      ]
     },
     "metadata": {},
     "output_type": "display_data"
    }
   ],
   "source": [
    "# Create a reverse mapping from index to class name\n",
    "idx_to_class = {v: k for k, v in train_dataset.class_to_idx.items()}\n",
    "\n",
    "# Get the class names\n",
    "class_names = [idx_to_class[i] for i in range(len(idx_to_class))]\n",
    "\n",
    "# Plot the confusion matrix\n",
    "plt.figure(figsize=(7, 6))\n",
    "plt.imshow(cm, interpolation='nearest', cmap=plt.cm.Blues)\n",
    "plt.title('Confusion Matrix')\n",
    "plt.colorbar()\n",
    "tick_marks = np.arange(len(class_names))\n",
    "plt.xticks(tick_marks, class_names, rotation=45)\n",
    "plt.yticks(tick_marks, class_names)\n",
    "\n",
    "# Add labels to the plot\n",
    "plt.xlabel('Predicted')\n",
    "plt.ylabel('True')\n",
    "\n",
    "# Add text annotations\n",
    "thresh = cm.max() / 2.\n",
    "for i, j in np.ndindex(cm.shape):\n",
    "    plt.text(j, i, format(cm[i, j], 'd'),\n",
    "             ha=\"center\", va=\"center\",\n",
    "             color=\"white\" if cm[i, j] > thresh else \"black\")\n",
    "\n",
    "plt.tight_layout()\n",
    "plt.show()"
   ]
  },
  {
   "cell_type": "code",
   "execution_count": null,
   "metadata": {},
   "outputs": [
    {
     "data": {
      "text/plain": [
       "'23/57d31a5e11d84ef385b61788d8959eb6/artifacts/model'"
      ]
     },
     "execution_count": 22,
     "metadata": {},
     "output_type": "execute_result"
    }
   ],
   "source": [
    "# load the model from MiniO\n",
    "from minio import Minio\n",
    "\n",
    "def extract_s3_path(artifact_uri):\n",
    "    if artifact_uri.startswith('s3://'):\n",
    "        return '/'.join(artifact_uri.split('/')[3:])\n",
    "    else:\n",
    "        raise ValueError(\"The provided URI does not start with 's3://'\")\n",
    "\n",
    "\n",
    "artifact_uri = result_dict['artifact_uri']\n",
    "s3_path_to_model = extract_s3_path(artifact_uri)\n",
    "s3_path_to_model"
   ]
  },
  {
   "cell_type": "code",
   "execution_count": null,
   "metadata": {},
   "outputs": [],
   "source": [
    "# Initialize the MinIO client\n",
    "minio_client = Minio(\n",
    "    endpoint=REMOTE_MLFLOW_STORAGE_URI,\n",
    "    access_key=AWS_ACCESS_KEY_ID,\n",
    "    secret_key=AWS_SECRET_ACCESS_KEY,\n",
    "    secure=True\n",
    ")\n",
    "\n",
    "# Create an MLflow client\n",
    "mlflow_client = MlflowClient()\n",
    "# Create a new experiment\n",
    "experiment_name = f\"Music_Genre_Classification_V2_{get_current_time_string()}\"\n",
    "experiment_id = mlflow_client.create_experiment(experiment_name)\n",
    "\n",
    "# Define the bucket name and object path\n",
    "bucket_name = \"mlflowbucket\"\n",
    "local_file_path = \"latest_model_from_mlflow/\"\n",
    "\n",
    "\n",
    "# List and download all objects in the specified path\n",
    "def download_objects_from_minio(minio_client, bucket_name, s3_path_to_model, local_file_path):\n",
    "    objects = minio_client.list_objects(bucket_name, prefix=s3_path_to_model, recursive=True)\n",
    "    for obj in objects:\n",
    "        local_file = os.path.join(local_file_path, os.path.relpath(obj.object_name, s3_path_to_model))\n",
    "        os.makedirs(os.path.dirname(local_file), exist_ok=True)\n",
    "        minio_client.fget_object(bucket_name, obj.object_name, local_file)\n",
    "\n",
    "\n",
    "download_objects_from_minio(\n",
    "    minio_client, \n",
    "    bucket_name, \n",
    "    s3_path_to_model, \n",
    "    local_file_path\n",
    "    )"
   ]
  },
  {
   "cell_type": "code",
   "execution_count": 24,
   "metadata": {},
   "outputs": [],
   "source": [
    "def create_preprocessed_spectrogram(audio_path, sr=22050, n_mels=128, fmax=8000, img_size=(224, 224), start_time=20, segment_duration=20):\n",
    "    try:\n",
    "        # Load the audio file\n",
    "        y, sr = librosa.load(audio_path, sr=sr, offset=start_time, duration=segment_duration)\n",
    "        \n",
    "        # Generate the spectrogram\n",
    "        S = librosa.feature.melspectrogram(y=y, sr=sr, n_mels=n_mels, fmax=fmax)\n",
    "        S_DB = librosa.power_to_db(S, ref=np.max)\n",
    "        \n",
    "        # Plot the spectrogram\n",
    "        plt.figure(figsize=(10, 4))\n",
    "        plt.axis('off')\n",
    "        librosa.display.specshow(S_DB, sr=sr, x_axis=None, y_axis=None, fmax=fmax)\n",
    "        \n",
    "        # Save the plot to a temporary file\n",
    "        with tempfile.NamedTemporaryFile(suffix='.png', delete=False) as tmpfile:\n",
    "            plt.savefig(tmpfile.name, bbox_inches='tight', pad_inches=0)\n",
    "            plt.close()\n",
    "            \n",
    "            # Open the image and resize it\n",
    "            img = Image.open(tmpfile.name).convert('RGB')  # Convert to RGB\n",
    "            img = img.resize(img_size, Image.Resampling.LANCZOS)\n",
    "            os.remove(tmpfile.name)\n",
    "        \n",
    "        # Transform the image to tensor\n",
    "        transform = transforms.Compose([\n",
    "            transforms.ToTensor(),\n",
    "            transforms.Normalize(mean=[0.5], std=[0.5])\n",
    "        ])\n",
    "        img_tensor = transform(img).unsqueeze(0)  # Add batch dimension\n",
    "        \n",
    "        return img_tensor\n",
    "    except Exception as e:\n",
    "        print(f\"Error processing {audio_path}: {e}\")\n",
    "        return None"
   ]
  },
  {
   "cell_type": "code",
   "execution_count": null,
   "metadata": {},
   "outputs": [
    {
     "name": "stdout",
     "output_type": "stream",
     "text": [
      "Predicted class: funk\n"
     ]
    }
   ],
   "source": [
    "# Load the model\n",
    "device = torch.device(\"cuda\" if torch.cuda.is_available() else \"cpu\")\n",
    "# model_from_minio = MusicNet(num_classes=18)\n",
    "\n",
    "# Load the model state dictionary\n",
    "model_path = os.path.join(local_file_path, \"data/model.pth\")\n",
    "model_from_minio = mlflow.pytorch.load_model(local_file_path)\n",
    "model_from_minio.to(device)\n",
    "\n",
    "# Preprocess the audio file and make a prediction\n",
    "audio_path = \"MegaSet/Clinton Fearon/Clinton Fearon - 2010 - Mi Deh Yah/01-clinton_fearon-life_is_a_journey.mp3\"  # reggae\n",
    "img_tensor = create_preprocessed_spectrogram(audio_path)\n",
    "\n",
    "# Make a prediction\n",
    "# model_from_minio.eval(): Sets the model to evaluation mode.\n",
    "# with torch.no_grad(): Disables gradient calculation, which is not needed during inference and reduces memory consumption.\n",
    "if img_tensor is not None:\n",
    "    img_tensor = img_tensor.to(device)\n",
    "    model_from_minio.eval()\n",
    "    with torch.no_grad():\n",
    "        output = model_from_minio(img_tensor)\n",
    "        _, predicted = torch.max(output, 1)\n",
    "    \n",
    "    # Create a reverse mapping from index to class name\n",
    "    idx_to_class = {v: k for k, v in train_dataset.class_to_idx.items()}\n",
    "\n",
    "    # Get the predicted class name\n",
    "    predicted_class_name = idx_to_class[predicted.item()]\n",
    "\n",
    "    # Print the predicted class\n",
    "    print(f'Predicted class: {predicted_class_name}')"
   ]
  },
  {
   "cell_type": "code",
   "execution_count": 26,
   "metadata": {},
   "outputs": [
    {
     "name": "stdout",
     "output_type": "stream",
     "text": [
      "Predicted class: chanson\n"
     ]
    }
   ],
   "source": [
    "metal_spec = \"CNNSET/Data/test/metal/spectrogram_012.png\"\n",
    "\n",
    "img = Image.open(metal_spec).convert('RGB')\n",
    "transform = transforms.Compose([\n",
    "    transforms.ToTensor(),\n",
    "    transforms.Normalize(mean=[0.5], std=[0.5])\n",
    "])\n",
    "img_tensor = transform(img).unsqueeze(0)\n",
    "\n",
    "# Make a prediction\n",
    "\n",
    "if img_tensor is not None:\n",
    "    img_tensor = img_tensor.to(device)\n",
    "    model_from_minio.eval()\n",
    "    with torch.no_grad():\n",
    "        output = model_from_minio(img_tensor)\n",
    "        _, predicted = torch.max(output, 1)\n",
    "    \n",
    "    # Create a reverse mapping from index to class name\n",
    "    idx_to_class = {v: k for k, v in train_dataset.class_to_idx.items()}\n",
    "\n",
    "    # Get the predicted class name\n",
    "    predicted_class_name = idx_to_class[predicted.item()]\n",
    "\n",
    "    # Print the predicted class\n",
    "    print(f'Predicted class: {predicted_class_name}')"
   ]
  },
  {
   "cell_type": "code",
   "execution_count": 49,
   "metadata": {},
   "outputs": [],
   "source": [
    "def update_model_in_production_bucket(minio_client, bucket_name, model_folder_path):\n",
    "    try:\n",
    "        # Delete the existing model\n",
    "        objects = minio_client.list_objects(bucket_name, prefix='data/', recursive=True)\n",
    "        for obj in objects:\n",
    "            minio_client.remove_object(bucket_name, obj.object_name)\n",
    "    except Exception as e:\n",
    "        return f\"Error deleting existing model: {e}\"\n",
    "\n",
    "    # upload the new model's folder and all its contents\n",
    "    if [obj for obj in minio_client.list_objects(bucket_name, recursive=True)] == []:\n",
    "        try:\n",
    "            # Upload the new model's folder and all its contents\n",
    "            for root, dirs, files in os.walk(model_folder_path):\n",
    "                for file in files:\n",
    "                    local_file_path = os.path.join(root, file)\n",
    "                    relative_path = os.path.relpath(local_file_path, model_folder_path)\n",
    "                    minio_client.fput_object(bucket_name, f\"data/{relative_path}\", local_file_path)\n",
    "        except Exception as e:\n",
    "            return f\"Error uploading new model: {e}\"\n",
    "    \n",
    "    return \"Model updated successfully\""
   ]
  },
  {
   "cell_type": "code",
   "execution_count": 50,
   "metadata": {},
   "outputs": [
    {
     "data": {
      "text/plain": [
       "'latest_model_from_mlflow/'"
      ]
     },
     "execution_count": 50,
     "metadata": {},
     "output_type": "execute_result"
    }
   ],
   "source": [
    "local_file_path"
   ]
  },
  {
   "cell_type": "code",
   "execution_count": 51,
   "metadata": {},
   "outputs": [
    {
     "data": {
      "text/plain": [
       "'Model updated successfully'"
      ]
     },
     "execution_count": 51,
     "metadata": {},
     "output_type": "execute_result"
    }
   ],
   "source": [
    "update_model_in_production_bucket(minio_client, bucket_name, local_file_path)"
   ]
  }
 ],
 "metadata": {
  "kernelspec": {
   "display_name": ".venv",
   "language": "python",
   "name": "python3"
  },
  "language_info": {
   "codemirror_mode": {
    "name": "ipython",
    "version": 3
   },
   "file_extension": ".py",
   "mimetype": "text/x-python",
   "name": "python",
   "nbconvert_exporter": "python",
   "pygments_lexer": "ipython3",
   "version": "3.10.12"
  }
 },
 "nbformat": 4,
 "nbformat_minor": 2
}
