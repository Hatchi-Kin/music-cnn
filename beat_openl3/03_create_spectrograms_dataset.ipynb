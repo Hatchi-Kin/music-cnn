{
 "cells": [
  {
   "cell_type": "code",
   "execution_count": 1,
   "metadata": {},
   "outputs": [],
   "source": [
    "import os\n",
    "import librosa\n",
    "import numpy as np\n",
    "import matplotlib.pyplot as plt\n",
    "import librosa.display\n",
    "from PIL import Image\n",
    "import tempfile\n",
    "import gc\n"
   ]
  },
  {
   "cell_type": "code",
   "execution_count": null,
   "metadata": {},
   "outputs": [],
   "source": [
    "### CREATE DATASET ###\n",
    "\n",
    "# # We want to create a custom dataset usable as datasets.ImageFolder() from torchvision.\n",
    "#     - audio_dataset/\n",
    "#         - class001/\n",
    "#             - class001.mp3\n",
    "#             - class001.mp3\n",
    "#             - ...\n",
    "#         - class002/\n",
    "#             - class002.mp3\n",
    "#             - class002.mp3\n",
    "#             - ...\n",
    "#         - ...\n",
    "# # 2. Process .mp3 files to spectrograms.png with same structure:\n",
    "#     - spectrogram_dataset/\n",
    "#         - class001/\n",
    "#             - class001.png\n",
    "#             - class001.png\n",
    "#             - ...\n",
    "#         - class002/\n",
    "#             - class002.png\n",
    "#             - class002.png\n",
    "#             - ...\n",
    "#         - ..."
   ]
  },
  {
   "cell_type": "code",
   "execution_count": 2,
   "metadata": {},
   "outputs": [],
   "source": [
    "def create_spectrograms(audio_path, output_dir, segment_duration=20, sr=22050, n_mels=128, fmax=8000, img_size=(224, 224), dpi=100):\n",
    "    \"\"\"\n",
    "    Create and save spectrograms from an audio file.\n",
    "    Will try to create as many segments as possible from the audio file, based on the segment duration.\n",
    "\n",
    "    Parameters:\n",
    "    audio_path (str): Path to the audio file.\n",
    "    output_dir (str): Directory to save the spectrogram images.\n",
    "    segment_duration (int, optional): Duration of each segment in seconds. Default is 20.\n",
    "    sr (int, optional): Sampling rate for loading the audio. Default is 22050.\n",
    "    n_mels (int, optional): Number of Mel bands to generate. Default is 128.\n",
    "    fmax (int, optional): Maximum frequency for the Mel spectrogram. Default is 8000.\n",
    "    img_size (tuple, optional): Size of the output image. Default is (224, 224).\n",
    "    dpi (int, optional): Dots per inch for the output image. Default is 100.\n",
    "\n",
    "    Returns:\n",
    "    None\n",
    "    \"\"\"\n",
    "    try:\n",
    "        # Load the audio file\n",
    "        y, sr = librosa.load(audio_path, sr=sr)\n",
    "        total_duration = librosa.get_duration(y=y, sr=sr)\n",
    "        \n",
    "        # Calculate the number of full segments\n",
    "        num_segments = int(total_duration // segment_duration)\n",
    "        \n",
    "        # Create output directory if it doesn't exist\n",
    "        os.makedirs(output_dir, exist_ok=True)\n",
    "        \n",
    "        for i in range(num_segments):\n",
    "            start_sample = i * segment_duration * sr\n",
    "            end_sample = start_sample + segment_duration * sr\n",
    "            segment = y[start_sample:end_sample]\n",
    "            \n",
    "            # Ensure the segment is exactly 20 seconds long\n",
    "            if len(segment) == segment_duration * sr:\n",
    "                # Generate the spectrogram\n",
    "                S = librosa.feature.melspectrogram(y=segment, sr=sr, n_mels=n_mels, fmax=fmax)\n",
    "                S_DB = librosa.power_to_db(S, ref=np.max)\n",
    "                \n",
    "                # Plot and save the spectrogram without additional elements\n",
    "                with tempfile.NamedTemporaryFile(suffix='.png', delete=False) as tmpfile:\n",
    "                    plt.figure(figsize=(10, 4), dpi=dpi)  # Adjusted figure size for better aspect ratio\n",
    "                    plt.axis('off')  # Turn off the axis\n",
    "                    librosa.display.specshow(S_DB, sr=sr, x_axis=None, y_axis=None, fmax=fmax)\n",
    "                    plt.savefig(tmpfile.name, bbox_inches='tight', pad_inches=0)\n",
    "                    plt.close()\n",
    "                    \n",
    "                    # Resize the image\n",
    "                    img = Image.open(tmpfile.name)\n",
    "                    img = img.resize(img_size, Image.Resampling.LANCZOS)\n",
    "                    base_name = os.path.splitext(os.path.basename(audio_path))[0]\n",
    "                    output_file = os.path.join(output_dir, f'{base_name}_spectrogram_{i+1:03d}.png')\n",
    "                    img.save(output_file)\n",
    "                    os.remove(tmpfile.name)\n",
    "                    \n",
    "    except Exception as e:\n",
    "        print(f\"Error processing {audio_path}: {e}\")\n",
    "\n",
    "\n",
    "def process_genre_folder(genre_folder, spectrograms_dir):\n",
    "    \"\"\"\n",
    "    Process all MP3 files in a genre folder to create spectrograms.\n",
    "\n",
    "    Parameters:\n",
    "    genre_folder (str): Path to the genre folder containing MP3 files.\n",
    "    spectrograms_dir (str): Directory to save the spectrogram images.\n",
    "\n",
    "    Returns:\n",
    "    None\n",
    "    \"\"\"\n",
    "    for root, dirs, files in os.walk(genre_folder):\n",
    "        for file in files:\n",
    "            if file.endswith(\".mp3\"):\n",
    "                audio_path = os.path.join(root, file)\n",
    "                output_dir = os.path.join(spectrograms_dir, os.path.basename(genre_folder))\n",
    "                create_spectrograms(audio_path, output_dir)\n",
    "                # Explicitly clear memory after processing each MP3 file\n",
    "                gc.collect()\n"
   ]
  },
  {
   "cell_type": "code",
   "execution_count": 3,
   "metadata": {},
   "outputs": [
    {
     "data": {
      "text/plain": [
       "['hard rock',\n",
       " 'house',\n",
       " 'classical',\n",
       " 'chanson',\n",
       " 'blues',\n",
       " 'metal',\n",
       " 'reggae',\n",
       " 'rock',\n",
       " 'dub',\n",
       " 'jazz',\n",
       " 'electro',\n",
       " 'country',\n",
       " 'funk',\n",
       " 'hip-hop',\n",
       " 'rap',\n",
       " 'pop',\n",
       " 'folk',\n",
       " 'dance']"
      ]
     },
     "execution_count": 3,
     "metadata": {},
     "output_type": "execute_result"
    }
   ],
   "source": [
    "# Define paths\n",
    "PATH_TO_AUDIO_DATASET = \"DATASET/originals\"\n",
    "PATH_TO_SPECTROGRAM_DATASET = \"DATASET/spectrograms\"\n",
    "\n",
    "# Create the base directory for the spectrogram dataset if it doesn't exist\n",
    "os.makedirs(PATH_TO_SPECTROGRAM_DATASET, exist_ok=True)\n",
    "\n",
    "os.listdir(PATH_TO_AUDIO_DATASET)"
   ]
  },
  {
   "cell_type": "code",
   "execution_count": null,
   "metadata": {},
   "outputs": [],
   "source": [
    "# # Process the genre folder\n",
    "# genre_folder = \"dance\"\n",
    "# process_genre_folder(os.path.join(PATH_TO_AUDIO_DATASET, genre_folder), PATH_TO_SPECTROGRAM_DATASET)"
   ]
  },
  {
   "cell_type": "code",
   "execution_count": 5,
   "metadata": {},
   "outputs": [],
   "source": [
    "# for root, dirs, files in os.walk(PATH_TO_AUDIO_DATASET):\n",
    "#     for genre in dirs:\n",
    "#         genre_folder = os.path.join(root, genre)\n",
    "#         process_genre_folder(genre_folder, PATH_TO_SPECTROGRAM_DATASET)"
   ]
  }
 ],
 "metadata": {
  "kernelspec": {
   "display_name": ".venv",
   "language": "python",
   "name": "python3"
  },
  "language_info": {
   "codemirror_mode": {
    "name": "ipython",
    "version": 3
   },
   "file_extension": ".py",
   "mimetype": "text/x-python",
   "name": "python",
   "nbconvert_exporter": "python",
   "pygments_lexer": "ipython3",
   "version": "3.10.12"
  }
 },
 "nbformat": 4,
 "nbformat_minor": 2
}
