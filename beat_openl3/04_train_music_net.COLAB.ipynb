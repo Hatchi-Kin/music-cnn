{
 "cells": [
  {
   "cell_type": "code",
   "execution_count": null,
   "metadata": {},
   "outputs": [],
   "source": [
    "# !pip install mlflow minio"
   ]
  },
  {
   "cell_type": "code",
   "execution_count": null,
   "metadata": {
    "id": "1F_7ExIAw1rA"
   },
   "outputs": [],
   "source": [
    "import os\n",
    "from datetime import datetime\n",
    "import tempfile\n",
    "import shutil\n",
    "import glob\n",
    "\n",
    "import numpy as np\n",
    "from sklearn.metrics import confusion_matrix\n",
    "import librosa\n",
    "import matplotlib.pyplot as plt\n",
    "from PIL import Image\n",
    "from torchvision import transforms, datasets\n",
    "\n",
    "import torch\n",
    "from torch.utils.data import DataLoader\n",
    "import torch.nn as nn\n",
    "import torch.nn.functional as F\n",
    "\n",
    "import mlflow\n",
    "from mlflow.tracking import MlflowClient\n",
    "\n",
    "from minio import Minio\n",
    "\n",
    "from dotenv import load_dotenv\n",
    "load_dotenv()"
   ]
  },
  {
   "cell_type": "code",
   "execution_count": 3,
   "metadata": {
    "id": "-e0a3kbQxBrT"
   },
   "outputs": [],
   "source": [
    "def create_preprocessed_spectrogram(audio_path, sr=22050, n_mels=128, fmax=8000, img_size=(224, 224), start_time=20, segment_duration=20):\n",
    "    \"\"\"\n",
    "    Create a preprocessed spectrogram from an audio file segment.\n",
    "    Will generate a Mel spectrogram, plot it, and convert it to a tensor to be directly used with a model.\n",
    "\n",
    "    Parameters:\n",
    "    audio_path (str): Path to the audio file.\n",
    "    sr (int, optional): Sampling rate for loading the audio. Default is 22050.\n",
    "    n_mels (int, optional): Number of Mel bands to generate. Default is 128.\n",
    "    fmax (int, optional): Maximum frequency for the Mel spectrogram. Default is 8000.\n",
    "    img_size (tuple, optional): Size of the output image. Default is (224, 224).\n",
    "    start_time (int, optional): Start time of the segment in seconds. Default is 20.\n",
    "    segment_duration (int, optional): Duration of the segment in seconds. Default is 20.\n",
    "\n",
    "    Returns:\n",
    "    torch.Tensor: Preprocessed spectrogram as a tensor.\n",
    "    \"\"\"\n",
    "    try:\n",
    "        # Load the audio file\n",
    "        y, sr = librosa.load(audio_path, sr=sr, offset=start_time, duration=segment_duration)\n",
    "\n",
    "        # Generate the spectrogram\n",
    "        S = librosa.feature.melspectrogram(y=y, sr=sr, n_mels=n_mels, fmax=fmax)\n",
    "        S_DB = librosa.power_to_db(S, ref=np.max)\n",
    "\n",
    "        # Plot the spectrogram\n",
    "        plt.figure(figsize=(10, 4))\n",
    "        plt.axis('off')\n",
    "        librosa.display.specshow(S_DB, sr=sr, x_axis=None, y_axis=None, fmax=fmax)\n",
    "\n",
    "        # Save the plot to a temporary file\n",
    "        with tempfile.NamedTemporaryFile(suffix='.png', delete=False) as tmpfile:\n",
    "            plt.savefig(tmpfile.name, bbox_inches='tight', pad_inches=0)\n",
    "            plt.close()\n",
    "\n",
    "            # Open the image and resize it\n",
    "            img = Image.open(tmpfile.name).convert('RGB')  # Convert to RGB\n",
    "            img = img.resize(img_size, Image.Resampling.LANCZOS)\n",
    "            os.remove(tmpfile.name)\n",
    "\n",
    "        # Transform the image to tensor\n",
    "        transform = transforms.Compose([\n",
    "            transforms.ToTensor(),\n",
    "            transforms.Normalize(mean=[0.5], std=[0.5])\n",
    "        ])\n",
    "        img_tensor = transform(img).unsqueeze(0)  # Add batch dimension\n",
    "\n",
    "        return img_tensor\n",
    "    except Exception as e:\n",
    "        print(f\"Error processing {audio_path}: {e}\")\n",
    "        return None\n",
    "\n",
    "\n",
    "def split_dataset_into_train_val_test(dataset_dir, output_dirs, test_ratio=0.05, val_ratio=0.15):\n",
    "    \"\"\"\n",
    "    Split the dataset into training, validation, and test sets.\n",
    "\n",
    "    Parameters:\n",
    "    dataset_dir (str): Path to the dataset directory containing genre subdirectories.\n",
    "    output_dirs (list): List of output directories for train, test, and validation sets.\n",
    "    test_ratio (float, optional): Proportion of the dataset to include in the test split. Default is 0.05.\n",
    "    val_ratio (float, optional): Proportion of the remaining dataset to include in the validation split. Default is 0.15.\n",
    "\n",
    "    Returns:\n",
    "    None\n",
    "    \"\"\"\n",
    "    train_dir, test_dir, val_dir = output_dirs\n",
    "\n",
    "    # Create folders for train, test, and validation data\n",
    "    for f in output_dirs:\n",
    "        if os.path.exists(f):\n",
    "            shutil.rmtree(f)\n",
    "        os.makedirs(f)\n",
    "\n",
    "    # Loop over all genres\n",
    "    genres = list(os.listdir(dataset_dir))\n",
    "    for g in genres:\n",
    "        # Find all images & split into train, test, and validation\n",
    "        src_file_paths = np.array(glob.glob(os.path.join(dataset_dir, f'{g}', \"*.png\")))\n",
    "        np.random.shuffle(src_file_paths)\n",
    "\n",
    "        num_files = len(src_file_paths)\n",
    "        num_test = max(2, min(4, int(np.ceil(num_files * test_ratio))))\n",
    "\n",
    "        test_files = src_file_paths[:num_test]\n",
    "        remaining_files = src_file_paths[num_test:]\n",
    "\n",
    "        num_remaining = len(remaining_files)\n",
    "        num_val = int(np.ceil(num_remaining * val_ratio))\n",
    "\n",
    "        val_files = remaining_files[:num_val]\n",
    "        train_files = remaining_files[num_val:]\n",
    "\n",
    "        # Make destination folders for train, test, and validation images\n",
    "        for f in output_dirs:\n",
    "            os.makedirs(os.path.join(f, g), exist_ok=True)\n",
    "\n",
    "        # Copy training, testing, and validation images\n",
    "        for f in train_files:\n",
    "            shutil.copy(f, os.path.join(train_dir, g, os.path.basename(f)))\n",
    "        for f in test_files:\n",
    "            shutil.copy(f, os.path.join(test_dir, g, os.path.basename(f)))\n",
    "        for f in val_files:\n",
    "            shutil.copy(f, os.path.join(val_dir, g, os.path.basename(f)))\n",
    "\n",
    "    print(f\"Dataset created in {train_dir}, {test_dir}, {val_dir}\")\n"
   ]
  },
  {
   "cell_type": "code",
   "execution_count": null,
   "metadata": {
    "id": "B22up-HoxDfq"
   },
   "outputs": [],
   "source": [
    "# PATH_TO_SPECTROGRAM_DATASET = \"DATASET/spectrograms\"\n",
    "# NAME_OF_DATASET = \"CNNSET\"\n",
    "# folder_names = [f'DATASET/{NAME_OF_DATASET}/train/', f'DATASET/{NAME_OF_DATASET}/test/', f'DATASET/{NAME_OF_DATASET}/val/']\n",
    "\n",
    "# # split_dataset_into_train_val_test(PATH_TO_SPECTROGRAM_DATASET, folder_names)"
   ]
  },
  {
   "cell_type": "code",
   "execution_count": null,
   "metadata": {
    "id": "l4LMb8kJ5DYz"
   },
   "outputs": [],
   "source": [
    "### DEFINE MODEL ###"
   ]
  },
  {
   "cell_type": "code",
   "execution_count": 5,
   "metadata": {
    "id": "-pnCnM325E24"
   },
   "outputs": [],
   "source": [
    "class MusicNet(nn.Module):\n",
    "    def __init__(self, num_classes=18):\n",
    "        super(MusicNet, self).__init__()\n",
    "        self.conv1 = nn.Conv2d(in_channels=3, out_channels=8, kernel_size=3, stride=1, padding=1)\n",
    "        self.conv2 = nn.Conv2d(in_channels=8, out_channels=16, kernel_size=3, stride=1, padding=1)\n",
    "        self.conv3 = nn.Conv2d(in_channels=16, out_channels=32, kernel_size=3, stride=1, padding=1)\n",
    "        self.conv4 = nn.Conv2d(in_channels=32, out_channels=64, kernel_size=3, stride=1, padding=1)\n",
    "\n",
    "        self.batchnorm1 = nn.BatchNorm2d(num_features=8)\n",
    "        self.batchnorm2 = nn.BatchNorm2d(num_features=16)\n",
    "        self.batchnorm3 = nn.BatchNorm2d(num_features=32)\n",
    "        self.batchnorm4 = nn.BatchNorm2d(num_features=64)\n",
    "\n",
    "        self.dropout = nn.Dropout(p=0.3, inplace=False)\n",
    "\n",
    "        self._to_linear = None\n",
    "        self.convs(torch.randn(1, 3, 224, 224))\n",
    "\n",
    "        self.fc1 = nn.Linear(in_features=self._to_linear, out_features=num_classes)\n",
    "\n",
    "    def convs(self, x):\n",
    "        x = self.conv1(x)\n",
    "        x = self.batchnorm1(x)\n",
    "        x = F.relu(x)\n",
    "        x = F.max_pool2d(x, kernel_size=2)\n",
    "\n",
    "        x = self.conv2(x)\n",
    "        x = self.batchnorm2(x)\n",
    "        x = F.relu(x)\n",
    "        x = F.max_pool2d(x, kernel_size=2)\n",
    "\n",
    "        x = self.conv3(x)\n",
    "        x = self.batchnorm3(x)\n",
    "        x = F.relu(x)\n",
    "        x = F.max_pool2d(x, kernel_size=2)\n",
    "\n",
    "        x = self.conv4(x)\n",
    "        x = self.batchnorm4(x)\n",
    "        x = F.relu(x)\n",
    "        x = F.max_pool2d(x, kernel_size=2)\n",
    "\n",
    "        if self._to_linear is None:\n",
    "            self._to_linear = x.view(x.size(0), -1).shape[1]\n",
    "        return x\n",
    "\n",
    "    def forward(self, x):\n",
    "        x = self.convs(x)\n",
    "        x = torch.flatten(x, 1)\n",
    "        x = self.dropout(x)\n",
    "        x = self.fc1(x)\n",
    "        return x"
   ]
  },
  {
   "cell_type": "code",
   "execution_count": null,
   "metadata": {
    "id": "ol1QL5O75HSc"
   },
   "outputs": [],
   "source": [
    "### DATASET AND DATALOADER ###"
   ]
  },
  {
   "cell_type": "code",
   "execution_count": 7,
   "metadata": {
    "id": "-8NLH-ry5kD4"
   },
   "outputs": [],
   "source": [
    "folder_names = [f'/content/drive/MyDrive/Colab Notebooks/CNNSET/train/', f'/content/drive/MyDrive/Colab Notebooks/CNNSET/test', f'/content/drive/MyDrive/Colab Notebooks/CNNSET/val/']"
   ]
  },
  {
   "cell_type": "code",
   "execution_count": 8,
   "metadata": {
    "colab": {
     "base_uri": "https://localhost:8080/"
    },
    "id": "Xn5QSqpF601Q",
    "outputId": "8ca428d7-b25e-47c6-be8b-8c7762cea327"
   },
   "outputs": [
    {
     "data": {
      "text/plain": [
       "['/content/drive/MyDrive/Colab Notebooks/CNNSET/train/',\n",
       " '/content/drive/MyDrive/Colab Notebooks/CNNSET/test',\n",
       " '/content/drive/MyDrive/Colab Notebooks/CNNSET/val/']"
      ]
     },
     "execution_count": 8,
     "metadata": {},
     "output_type": "execute_result"
    }
   ],
   "source": [
    "folder_names"
   ]
  },
  {
   "cell_type": "code",
   "execution_count": 9,
   "metadata": {
    "id": "DPTwdDM85Ixk"
   },
   "outputs": [],
   "source": [
    "train_dir = folder_names[0]\n",
    "test_dir = folder_names[1]\n",
    "val_dir = folder_names[2]\n",
    "\n",
    "# Define the transformations\n",
    "transform = transforms.Compose([\n",
    "    transforms.Resize((224, 224)),  # Resize to the desired size\n",
    "    transforms.ToTensor(),  # Convert to tensor\n",
    "    transforms.Normalize(mean=[0.5], std=[0.5])  # Normalize (adjust mean and std as needed)\n",
    "])\n",
    "\n",
    "# Load the datasets\n",
    "train_dataset = datasets.ImageFolder(root=train_dir, transform=transform)\n",
    "test_dataset = datasets.ImageFolder(root=test_dir, transform=transform)\n",
    "val_dataset = datasets.ImageFolder(root=val_dir, transform=transform)\n",
    "\n",
    "# Create DataLoaders\n",
    "train_loader = DataLoader(train_dataset, batch_size=25, shuffle=True, num_workers=2)\n",
    "test_loader = DataLoader(test_dataset, batch_size=25, shuffle=True, num_workers=2)\n",
    "val_loader = DataLoader(val_dataset, batch_size=25, shuffle=True, num_workers=2)"
   ]
  },
  {
   "cell_type": "code",
   "execution_count": 10,
   "metadata": {
    "colab": {
     "base_uri": "https://localhost:8080/"
    },
    "id": "05L92ixG5pII",
    "outputId": "27bfd482-cbba-4bf0-bca4-c7c53002a910"
   },
   "outputs": [
    {
     "data": {
      "text/plain": [
       "{'blues': 0,\n",
       " 'chanson': 1,\n",
       " 'classical': 2,\n",
       " 'country': 3,\n",
       " 'dance': 4,\n",
       " 'dub': 5,\n",
       " 'electro': 6,\n",
       " 'folk': 7,\n",
       " 'funk': 8,\n",
       " 'hard rock': 9,\n",
       " 'hip-hop': 10,\n",
       " 'house': 11,\n",
       " 'jazz': 12,\n",
       " 'metal': 13,\n",
       " 'pop': 14,\n",
       " 'rap': 15,\n",
       " 'reggae': 16,\n",
       " 'rock': 17}"
      ]
     },
     "execution_count": 10,
     "metadata": {},
     "output_type": "execute_result"
    }
   ],
   "source": [
    "train_dataset.class_to_idx # Mapping of class names to indices"
   ]
  },
  {
   "cell_type": "code",
   "execution_count": null,
   "metadata": {
    "id": "fkDgHCce5tgB"
   },
   "outputs": [],
   "source": [
    "### TRAIN MODEL AND LOG INTO MLFLOW ###"
   ]
  },
  {
   "cell_type": "code",
   "execution_count": 12,
   "metadata": {
    "colab": {
     "base_uri": "https://localhost:8080/",
     "height": 55
    },
    "id": "AhUxKe2l5u9q",
    "outputId": "289b64cf-9b67-4bf7-fa3c-b02928a2f241"
   },
   "outputs": [
    {
     "data": {
      "application/vnd.google.colaboratory.intrinsic+json": {
       "type": "string"
      },
      "text/plain": [
       "'16:19:53.8364'"
      ]
     },
     "execution_count": 12,
     "metadata": {},
     "output_type": "execute_result"
    }
   ],
   "source": [
    "def get_current_time_string():\n",
    "    # Get the current time\n",
    "    now = datetime.now()\n",
    "    # Format the time as a string with hours, minutes, seconds, and milliseconds\n",
    "    time_string = now.strftime(\"%H:%M:%S.%f\")[:-2]  # Remove the last 2 digits to get milliseconds\n",
    "    return time_string\n",
    "\n",
    "get_current_time_string()"
   ]
  },
  {
   "cell_type": "code",
   "execution_count": null,
   "metadata": {
    "id": "rheRR_e75w6O"
   },
   "outputs": [],
   "source": [
    "MLFLOW_REMOTE_SERVER_URI = os.getenv(\"REMOTE_MLFLOW_STORAGE_URI\")\n",
    "REMOTE_MLFLOW_BUCKET_NAME = os.getenv(\"REMOTE_MLFLOW_BUCKET_NAME\")\n",
    "MLFLOW_TRACKING_USERNAME = os.getenv(\"MLFLOW_TRACKING_USERNAME\")\n",
    "MLFLOW_TRACKING_PASSWORD = os.getenv(\"MLFLOW_TRACKING_PASSWORD\")\n",
    "REMOTE_MLFLOW_STORAGE_URI = os.getenv(\"REMOTE_MLFLOW_STORAGE_URI\")\n",
    "AWS_ACCESS_KEY_ID = os.getenv(\"AWS_ACCESS_KEY_ID\")\n",
    "AWS_SECRET_ACCESS_KEY = os.getenv(\"AWS_SECRET_ACCESS_KEY\")"
   ]
  },
  {
   "cell_type": "code",
   "execution_count": 14,
   "metadata": {
    "id": "8Mp5pMQj5ypB"
   },
   "outputs": [],
   "source": [
    "# Set the tracking URI to point to your MLflow server\n",
    "mlflow.set_tracking_uri(MLFLOW_REMOTE_SERVER_URI)\n",
    "\n",
    "# Set the environment variables for authentication\n",
    "os.environ['MLFLOW_TRACKING_USERNAME'] = MLFLOW_TRACKING_USERNAME\n",
    "os.environ['MLFLOW_TRACKING_PASSWORD'] = MLFLOW_TRACKING_PASSWORD\n",
    "os.environ['MLFLOW_S3_ENDPOINT_URL'] = f'https://{REMOTE_MLFLOW_STORAGE_URI}'\n",
    "os.environ['AWS_ACCESS_KEY_ID'] = AWS_ACCESS_KEY_ID\n",
    "os.environ['AWS_SECRET_ACCESS_KEY'] = AWS_SECRET_ACCESS_KEY\n",
    "os.environ['MLFLOW_HTTP_REQUEST_TIMEOUT'] = '300'\n",
    "\n",
    "# Create an MLflow client\n",
    "mlflow_client = MlflowClient()\n",
    "# Create a new experiment\n",
    "experiment_name = f\"Music_Genre_Classification_V2_{get_current_time_string()}\"\n",
    "experiment_id = mlflow_client.create_experiment(experiment_name)"
   ]
  },
  {
   "cell_type": "code",
   "execution_count": 15,
   "metadata": {
    "id": "2oictjbM50Hg"
   },
   "outputs": [],
   "source": [
    "def train_model(model, train_loader, val_loader, epochs, device, learning_rate=0.005):\n",
    "    criterion = nn.CrossEntropyLoss()\n",
    "    optimizer = torch.optim.Adam(model.parameters(), lr=learning_rate)\n",
    "    train_loss, val_loss = [], []\n",
    "    train_acc, val_acc = [], []\n",
    "\n",
    "    model.to(device)\n",
    "    print(f\"Training on {device}\")\n",
    "\n",
    "    with mlflow.start_run(experiment_id=experiment_id, run_name=f\"Run at {get_current_time_string()}\"):\n",
    "        for epoch in range(epochs):\n",
    "            model.train()\n",
    "            running_loss, correct, total = 0.0, 0, 0\n",
    "\n",
    "            for data, target in train_loader:\n",
    "                data, target = data.to(device), target.to(device)\n",
    "                optimizer.zero_grad()\n",
    "                output = model(data)\n",
    "                loss = criterion(output, target)\n",
    "                loss.backward()\n",
    "                optimizer.step()\n",
    "\n",
    "                running_loss += loss.item()\n",
    "                _, predicted = torch.max(output, 1)\n",
    "                total += target.size(0)\n",
    "                correct += (predicted == target).sum().item()\n",
    "\n",
    "            train_loss.append(running_loss / len(train_loader))\n",
    "            train_acc.append(correct / total)\n",
    "\n",
    "            model.eval()\n",
    "            running_loss, correct, total = 0.0, 0, 0\n",
    "\n",
    "            with torch.no_grad():\n",
    "                for data, target in val_loader:\n",
    "                    data, target = data.to(device), target.to(device)\n",
    "                    output = model(data)\n",
    "                    loss = criterion(output, target)\n",
    "                    running_loss += loss.item()\n",
    "                    _, predicted = torch.max(output, 1)\n",
    "                    total += target.size(0)\n",
    "                    correct += (predicted == target).sum().item()\n",
    "\n",
    "            val_loss.append(running_loss / len(val_loader))\n",
    "            val_acc.append(correct / total)\n",
    "\n",
    "            if (epoch + 1) % 10 == 0:\n",
    "                print(f'Epoch {epoch+1}/{epochs}, Train Loss: {train_loss[-1]:.4f}, Train Acc: {train_acc[-1]:.4f}, Val Loss: {val_loss[-1]:.4f}, Val Acc: {val_acc[-1]:.4f}')\n",
    "\n",
    "            # Log metrics to MLflow\n",
    "            mlflow.log_metric(\"train_loss\", train_loss[-1], step=epoch)\n",
    "            mlflow.log_metric(\"train_acc\", train_acc[-1], step=epoch)\n",
    "            mlflow.log_metric(\"val_loss\", val_loss[-1], step=epoch)\n",
    "            mlflow.log_metric(\"val_acc\", val_acc[-1], step=epoch)\n",
    "\n",
    "        # Log the model to MLflow\n",
    "        mlflow.pytorch.log_model(model, \"model\")\n",
    "\n",
    "        # Register the model\n",
    "        run_id = mlflow.active_run().info.run_id\n",
    "        model_name = f\"MusicGenreModel_{get_current_time_string()}\"\n",
    "        model_uri = f\"runs:/{run_id}/model\"\n",
    "        mlflow.register_model(model_uri, model_name)\n",
    "\n",
    "        # Get the artifact URI\n",
    "        artifact_uri = mlflow.get_artifact_uri(\"model\")\n",
    "\n",
    "    return {'train_loss': train_loss, 'train_acc': train_acc, 'val_loss': val_loss, 'val_acc': val_acc, 'model_uri': model_uri, 'artifact_uri': artifact_uri}"
   ]
  },
  {
   "cell_type": "code",
   "execution_count": 16,
   "metadata": {
    "colab": {
     "base_uri": "https://localhost:8080/"
    },
    "id": "NvW9GNhI52BS",
    "outputId": "e25bf857-9f24-443e-f5d5-abdab064156b"
   },
   "outputs": [
    {
     "data": {
      "text/plain": [
       "device(type='cuda')"
      ]
     },
     "execution_count": 16,
     "metadata": {},
     "output_type": "execute_result"
    }
   ],
   "source": [
    "device = torch.device(\"cuda\" if torch.cuda.is_available() else \"cpu\")\n",
    "device"
   ]
  },
  {
   "cell_type": "code",
   "execution_count": 17,
   "metadata": {
    "colab": {
     "base_uri": "https://localhost:8080/"
    },
    "id": "D411RftS54Tr",
    "outputId": "e05eddb9-1301-4212-ae8d-8b907e79e501"
   },
   "outputs": [
    {
     "name": "stdout",
     "output_type": "stream",
     "text": [
      "Epoch 10/100, Train Loss: 0.7247, Train Acc: 0.7652, Val Loss: 1.6632, Val Acc: 0.5364\n",
      "Epoch 20/100, Train Loss: 0.1576, Train Acc: 0.9535, Val Loss: 1.8151, Val Acc: 0.6182\n",
      "Epoch 30/100, Train Loss: 0.1403, Train Acc: 0.9611, Val Loss: 2.0190, Val Acc: 0.5961\n",
      "Epoch 40/100, Train Loss: 0.1127, Train Acc: 0.9704, Val Loss: 2.1339, Val Acc: 0.6675\n",
      "Epoch 50/100, Train Loss: 0.0780, Train Acc: 0.9811, Val Loss: 2.3174, Val Acc: 0.6208\n",
      "Epoch 60/100, Train Loss: 0.0755, Train Acc: 0.9797, Val Loss: 2.6526, Val Acc: 0.6065\n",
      "Epoch 70/100, Train Loss: 0.0896, Train Acc: 0.9771, Val Loss: 2.7065, Val Acc: 0.6299\n",
      "Epoch 80/100, Train Loss: 0.0630, Train Acc: 0.9826, Val Loss: 2.6403, Val Acc: 0.6623\n",
      "Epoch 90/100, Train Loss: 0.0831, Train Acc: 0.9807, Val Loss: 2.5063, Val Acc: 0.6390\n"
     ]
    },
    {
     "name": "stderr",
     "output_type": "stream",
     "text": [
      "2024/11/04 17:23:44 WARNING mlflow.utils.requirements_utils: Found torch version (2.5.0+cu121) contains a local version label (+cu121). MLflow logged a pip requirement for this package as 'torch==2.5.0' without the local version label to make it installable from PyPI. To specify pip requirements containing local version labels, please use `conda_env` or `pip_requirements`.\n"
     ]
    },
    {
     "name": "stdout",
     "output_type": "stream",
     "text": [
      "Epoch 100/100, Train Loss: 0.0686, Train Acc: 0.9847, Val Loss: 2.2630, Val Acc: 0.6377\n"
     ]
    },
    {
     "name": "stderr",
     "output_type": "stream",
     "text": [
      "2024/11/04 17:23:51 WARNING mlflow.utils.requirements_utils: Found torch version (2.5.0+cu121) contains a local version label (+cu121). MLflow logged a pip requirement for this package as 'torch==2.5.0' without the local version label to make it installable from PyPI. To specify pip requirements containing local version labels, please use `conda_env` or `pip_requirements`.\n",
      "2024/11/04 17:23:51 WARNING mlflow.models.model: Model logged without a signature and input example. Please set `input_example` parameter when logging the model to auto infer the model signature.\n"
     ]
    },
    {
     "name": "stdout",
     "output_type": "stream",
     "text": [
      "\n",
      "train_loss: [5.731433045296442, 2.395770392957188, 2.05317270613852, 1.8365911011184965, 1.5879634104314304, 1.417365662753582, 1.2438432173359961, 1.0618096231704666, 0.8833356205196607, 0.7246761472807044, 0.5868163083103441, 0.46748007213075954, 0.4140408841582636, 0.37877509042265867, 0.2923457081695752, 0.2457593725328999, 0.25826888123438474, 0.19662293820597587, 0.1997529402364134, 0.15758196533092164, 0.17946904381859072, 0.14829161150624887, 0.15124149918777957, 0.13967690687665404, 0.16822275999722824, 0.1422253070105355, 0.1550589905846642, 0.12087246873194263, 0.10779632825662182, 0.14033176941302372, 0.13742399688566193, 0.12080876914218866, 0.14047305645432234, 0.1163959775790101, 0.11578470345245608, 0.12052772923613832, 0.10447630194193196, 0.10567795930823888, 0.1186004794376675, 0.11268784188273241, 0.12467366467206462, 0.084910523245829, 0.10300162452282773, 0.09848361119171993, 0.09296342064079086, 0.12050731154713071, 0.09629147685544533, 0.1212970568246549, 0.102118090930162, 0.07797579780925021, 0.10762386595715293, 0.09039329181160567, 0.08388689634670127, 0.09242194027510345, 0.08696590250249192, 0.07423378854703817, 0.08810963791386582, 0.09137370469224629, 0.0912830661277223, 0.07552116668670178, 0.07924811409341037, 0.09679420059148383, 0.07907207812890452, 0.0568422826842531, 0.06675928192022357, 0.06474973890090041, 0.08381147401509484, 0.10034696486164171, 0.07904964879396305, 0.08962250096027717, 0.08833489209583993, 0.06621212263711468, 0.07035988107998578, 0.06330407407737464, 0.08252211643219284, 0.08008326951650295, 0.07442402568505627, 0.06652228202585234, 0.07180079720572914, 0.06304473992029325, 0.07208627833954649, 0.0589658152951989, 0.048601233277243715, 0.07620655471618236, 0.06779991919670249, 0.06638054101819892, 0.07749018880609324, 0.0675303799597324, 0.06756858319098076, 0.08306589753192384, 0.07494219656770101, 0.0685974099703041, 0.05056481114706912, 0.07637547158875739, 0.056789900150057464, 0.05034319722106028, 0.05878166795420319, 0.05079813510489354, 0.07956178196372678, 0.06857943501938193]\n",
      "train_acc: [0.1126491646778043, 0.24176610978520285, 0.3570405727923628, 0.4097852028639618, 0.4992840095465394, 0.5570405727923627, 0.6085918854415274, 0.6529832935560859, 0.715035799522673, 0.7651551312649165, 0.8157517899761336, 0.847255369928401, 0.8620525059665871, 0.8735083532219571, 0.9023866348448687, 0.920763723150358, 0.9176610978520287, 0.9367541766109785, 0.9422434367541767, 0.9534606205250596, 0.9420047732696898, 0.9577565632458234, 0.9551312649164678, 0.9587112171837708, 0.9494033412887828, 0.956563245823389, 0.9534606205250596, 0.964200477326969, 0.9701670644391408, 0.9610978520286396, 0.958472553699284, 0.9675417661097852, 0.9596658711217184, 0.9692124105011933, 0.9684964200477327, 0.9665871121718377, 0.9718377088305489, 0.9723150357995227, 0.9687350835322196, 0.9704057279236277, 0.9639618138424821, 0.9770883054892602, 0.9749403341288783, 0.9735083532219571, 0.9761336515513126, 0.9670644391408114, 0.9766109785202864, 0.971599045346062, 0.9718377088305489, 0.981145584725537, 0.9699284009546539, 0.9751789976133651, 0.9806682577565633, 0.9737470167064439, 0.9742243436754177, 0.9806682577565633, 0.9766109785202864, 0.9720763723150359, 0.9761336515513126, 0.9797136038186157, 0.9797136038186157, 0.9770883054892602, 0.979236276849642, 0.9832935560859188, 0.9859188544152745, 0.9844868735083532, 0.9763723150357996, 0.9735083532219571, 0.9785202863961814, 0.9770883054892602, 0.9806682577565633, 0.9825775656324582, 0.9840095465393794, 0.9844868735083532, 0.9787589498806682, 0.979236276849642, 0.9789976133651551, 0.9840095465393794, 0.9821002386634845, 0.9825775656324582, 0.9837708830548926, 0.98472553699284, 0.9856801909307876, 0.9780429594272076, 0.98472553699284, 0.9842482100238663, 0.9825775656324582, 0.9844868735083532, 0.9844868735083532, 0.9806682577565633, 0.9818615751789976, 0.9837708830548926, 0.9854415274463008, 0.9825775656324582, 0.98854415274463, 0.9892601431980907, 0.9856801909307876, 0.9873508353221957, 0.9799522673031026, 0.98472553699284]\n",
      "val_loss: [2.567503152355071, 2.1983866845407793, 2.019224762916565, 2.2614473565932243, 1.7727154570241128, 1.6844934340446227, 2.060575988984877, 1.9047845486671693, 1.506066778013783, 1.6631935527247768, 1.6214073992544604, 1.560756310339897, 1.6179907168111494, 1.4897313790936624, 1.795191386053639, 1.6858116167206918, 2.0099622414958094, 1.8839058068490797, 2.0348479401680732, 1.8150722768998915, 1.910620524037269, 1.8850244514403804, 1.9341989255720569, 1.9285361997542843, 1.9079669290973293, 2.323727536586023, 1.9363078186588902, 1.8273360229307605, 2.0828981245717695, 2.0190460797279113, 2.0171473968413567, 2.2386760788579143, 2.158605096801635, 2.047338295367456, 2.166452965428752, 2.2869238584272322, 2.0830341962076004, 2.221357955086616, 1.9150117462681187, 2.1339183872745884, 1.9944887728460374, 2.287899573003092, 2.197155840935246, 2.3904938428632674, 2.1485223308686288, 2.531206032922191, 2.2859000852031093, 2.6430441679493075, 2.334583818912506, 2.317362904548645, 2.3707779299828315, 2.265403191889486, 2.3714270937827324, 2.488423705101013, 2.207389206655564, 2.3367782869646625, 2.503350461682966, 2.2582148025112767, 2.3574256820063435, 2.65258260696165, 2.4796266132785427, 2.3531259730938943, 2.3422926856625463, 2.445461098224886, 2.4452022102571305, 2.3353750436536727, 3.3328121862103863, 2.727195708982406, 2.7532574669007333, 2.706505710078824, 2.3892477981505857, 2.452541537823216, 2.006604794533022, 2.505727829471711, 2.535805411877171, 2.402376296058778, 2.8224125908267115, 2.557407275322945, 3.012561078994505, 2.6403133946080364, 2.4632539133871756, 2.4847753086397724, 2.7840430390450264, 2.4443620039570715, 2.4258289298703595, 2.7451447940641835, 2.626862783585825, 2.4708660417987454, 2.6851803506574323, 2.506326990742837, 2.5760465398911507, 2.5161928784462715, 2.542665654613126, 2.2334175186772502, 2.6615243669479125, 2.219011156789718, 2.2503384188298257, 2.374555403186429, 2.458139075386909, 2.262978034634744]\n",
      "val_acc: [0.22467532467532467, 0.33636363636363636, 0.37012987012987014, 0.35714285714285715, 0.461038961038961, 0.4844155844155844, 0.38311688311688313, 0.43376623376623374, 0.561038961038961, 0.5363636363636364, 0.5753246753246753, 0.5688311688311688, 0.6324675324675325, 0.625974025974026, 0.5961038961038961, 0.6324675324675325, 0.5714285714285714, 0.6506493506493507, 0.6207792207792208, 0.6181818181818182, 0.6155844155844156, 0.6285714285714286, 0.6311688311688312, 0.6051948051948052, 0.6532467532467533, 0.6051948051948052, 0.6012987012987013, 0.6493506493506493, 0.6116883116883117, 0.5961038961038961, 0.6207792207792208, 0.6155844155844156, 0.6363636363636364, 0.6090909090909091, 0.6324675324675325, 0.6142857142857143, 0.6311688311688312, 0.6571428571428571, 0.6233766233766234, 0.6675324675324675, 0.6467532467532467, 0.638961038961039, 0.6090909090909091, 0.6194805194805195, 0.6402597402597403, 0.6363636363636364, 0.6090909090909091, 0.5974025974025974, 0.6480519480519481, 0.6207792207792208, 0.6207792207792208, 0.6181818181818182, 0.6480519480519481, 0.6415584415584416, 0.6571428571428571, 0.6480519480519481, 0.6272727272727273, 0.6454545454545455, 0.638961038961039, 0.6064935064935065, 0.6493506493506493, 0.5987012987012987, 0.625974025974026, 0.6363636363636364, 0.638961038961039, 0.6454545454545455, 0.5857142857142857, 0.6246753246753247, 0.6285714285714286, 0.6298701298701299, 0.6363636363636364, 0.6558441558441559, 0.6311688311688312, 0.6558441558441559, 0.6311688311688312, 0.6272727272727273, 0.6103896103896104, 0.6246753246753247, 0.6298701298701299, 0.6623376623376623, 0.6649350649350649, 0.6337662337662338, 0.6506493506493507, 0.6519480519480519, 0.6506493506493507, 0.638961038961039, 0.625974025974026, 0.6298701298701299, 0.638961038961039, 0.638961038961039, 0.6233766233766234, 0.6506493506493507, 0.6246753246753247, 0.6545454545454545, 0.6571428571428571, 0.6714285714285714, 0.6467532467532467, 0.6584415584415585, 0.6714285714285714, 0.6376623376623377]\n",
      "model_uri: runs:/0f5af0bfa25f41dfb788de287fd97a56/model\n",
      "artifact_uri: /content/minio.music-sim.fr/500397828407325387/0f5af0bfa25f41dfb788de287fd97a56/artifacts/model\n"
     ]
    },
    {
     "name": "stderr",
     "output_type": "stream",
     "text": [
      "Successfully registered model 'MusicGenreModel_17:23:51.4818'.\n",
      "Created version '1' of model 'MusicGenreModel_17:23:51.4818'.\n"
     ]
    }
   ],
   "source": [
    "# # Train the model\n",
    "device = torch.device(\"cuda\" if torch.cuda.is_available() else \"cpu\")\n",
    "model = MusicNet(num_classes=len(train_dataset.classes))\n",
    "train_for_n_epochs = 100\n",
    "learning_rate = 0.005\n",
    "\n",
    "result_dict = train_model(\n",
    "    model,\n",
    "    train_loader,\n",
    "    val_loader,\n",
    "    epochs=train_for_n_epochs,\n",
    "    learning_rate=learning_rate,\n",
    "    device=device\n",
    "    )\n",
    "\n",
    "print()\n",
    "for key, value in result_dict.items():\n",
    "    print(f'{key}: {value}')\n"
   ]
  },
  {
   "cell_type": "code",
   "execution_count": 19,
   "metadata": {
    "colab": {
     "base_uri": "https://localhost:8080/"
    },
    "id": "47Dhr24k57BZ",
    "outputId": "d04d89c1-490c-435e-b9ed-e675082f9712"
   },
   "outputs": [
    {
     "data": {
      "text/plain": [
       "<All keys matched successfully>"
      ]
     },
     "execution_count": 19,
     "metadata": {},
     "output_type": "execute_result"
    }
   ],
   "source": [
    "# Save the model locally\n",
    "name_of_model = f\"music_net_{train_for_n_epochs}_{learning_rate}.pth\"\n",
    "torch.save(model.state_dict(), f\"/content/drive/MyDrive/Colab Notebooks/CNNSET/{name_of_model}\")\n",
    "\n",
    "# Load the model from local file\n",
    "local_model = MusicNet(num_classes=len(train_dataset.classes))\n",
    "local_model.load_state_dict(torch.load(f\"/content/drive/MyDrive/Colab Notebooks/CNNSET/{name_of_model}\", weights_only=True))"
   ]
  },
  {
   "cell_type": "code",
   "execution_count": 20,
   "metadata": {
    "colab": {
     "base_uri": "https://localhost:8080/"
    },
    "id": "DvFLTKmA5-R2",
    "outputId": "064d74c7-1b9e-426d-8a6f-ff9d3d0f1b09"
   },
   "outputs": [
    {
     "name": "stdout",
     "output_type": "stream",
     "text": [
      "Test Accuracy: 0.6528\n"
     ]
    }
   ],
   "source": [
    "local_model.eval()\n",
    "correct, total = 0, 0\n",
    "with torch.no_grad():\n",
    "    for data, target in test_loader:\n",
    "        data, target = data.to(device), target.to(device)\n",
    "        output = model(data)\n",
    "        _, predicted = torch.max(output, 1)\n",
    "        total += target.size(0)\n",
    "        correct += (predicted == target).sum().item()\n",
    "\n",
    "print(f\"Test Accuracy: {correct / total:.4f}\")"
   ]
  },
  {
   "cell_type": "code",
   "execution_count": null,
   "metadata": {
    "colab": {
     "base_uri": "https://localhost:8080/"
    },
    "id": "ZWrRSA7k5_3X",
    "outputId": "ceb21c1b-737f-4fba-f85a-72d9fae288a9"
   },
   "outputs": [
    {
     "data": {
      "text/plain": [
       "array([[1, 0, 0, 1, 0, 0, 0, 0, 0, 1, 0, 0, 0, 0, 1, 0, 0, 0],\n",
       "       [0, 1, 0, 0, 0, 0, 0, 1, 0, 0, 1, 0, 1, 0, 0, 0, 0, 0],\n",
       "       [0, 0, 3, 0, 0, 0, 0, 0, 0, 0, 0, 0, 1, 0, 0, 0, 0, 0],\n",
       "       [0, 0, 0, 2, 0, 0, 0, 2, 0, 0, 0, 0, 0, 0, 0, 0, 0, 0],\n",
       "       [0, 0, 0, 0, 4, 0, 0, 0, 0, 0, 0, 0, 0, 0, 0, 0, 0, 0],\n",
       "       [0, 0, 0, 0, 0, 4, 0, 0, 0, 0, 0, 0, 0, 0, 0, 0, 0, 0],\n",
       "       [0, 0, 0, 0, 0, 0, 2, 1, 0, 0, 0, 0, 0, 0, 0, 0, 0, 1],\n",
       "       [0, 0, 0, 0, 0, 0, 0, 4, 0, 0, 0, 0, 0, 0, 0, 0, 0, 0],\n",
       "       [0, 0, 0, 0, 0, 0, 0, 0, 2, 0, 0, 0, 0, 0, 0, 0, 2, 0],\n",
       "       [0, 0, 0, 1, 0, 0, 0, 0, 0, 3, 0, 0, 0, 0, 0, 0, 0, 0],\n",
       "       [0, 0, 0, 0, 0, 0, 0, 0, 0, 0, 3, 1, 0, 0, 0, 0, 0, 0],\n",
       "       [0, 0, 0, 0, 1, 0, 0, 0, 0, 0, 1, 2, 0, 0, 0, 0, 0, 0],\n",
       "       [0, 0, 0, 0, 0, 0, 1, 1, 0, 0, 0, 0, 2, 0, 0, 0, 0, 0],\n",
       "       [0, 0, 0, 0, 0, 0, 0, 0, 0, 0, 0, 0, 0, 4, 0, 0, 0, 0],\n",
       "       [0, 1, 0, 0, 0, 0, 0, 0, 0, 0, 0, 0, 0, 0, 2, 0, 0, 1],\n",
       "       [0, 0, 0, 0, 0, 0, 0, 0, 0, 0, 0, 0, 0, 0, 0, 3, 0, 1],\n",
       "       [0, 0, 0, 0, 0, 0, 0, 0, 0, 0, 0, 0, 0, 0, 0, 2, 2, 0],\n",
       "       [0, 0, 0, 0, 0, 0, 0, 0, 0, 0, 0, 0, 1, 0, 0, 0, 0, 3]])"
      ]
     },
     "execution_count": 21,
     "metadata": {},
     "output_type": "execute_result"
    }
   ],
   "source": [
    "# Evaluate the model and compute the confusion matrix\n",
    "local_model.eval()\n",
    "y_true, y_pred = [], []\n",
    "with torch.no_grad():\n",
    "    for data, target in test_loader:\n",
    "        data, target = data.to(device), target.to(device)\n",
    "        output = model(data)\n",
    "        _, predicted = torch.max(output, 1)\n",
    "        y_true.extend(target.cpu().numpy())\n",
    "        y_pred.extend(predicted.cpu().numpy())\n",
    "\n",
    "cm = confusion_matrix(y_true, y_pred)\n",
    "\n",
    "cm"
   ]
  },
  {
   "cell_type": "code",
   "execution_count": 22,
   "metadata": {
    "colab": {
     "base_uri": "https://localhost:8080/",
     "height": 624
    },
    "id": "hplchIgw6BlK",
    "outputId": "a6e60480-bee5-44e5-b6f3-d1cc7eb10996"
   },
   "outputs": [
    {
     "data": {
      "image/png": "[encoded data removed]",
      "text/plain": [
       "<Figure size 700x600 with 2 Axes>"
      ]
     },
     "metadata": {},
     "output_type": "display_data"
    }
   ],
   "source": [
    "# Create a reverse mapping from index to class name\n",
    "idx_to_class = {v: k for k, v in train_dataset.class_to_idx.items()}\n",
    "\n",
    "# Get the class names\n",
    "class_names = [idx_to_class[i] for i in range(len(idx_to_class))]\n",
    "\n",
    "# Plot the confusion matrix\n",
    "plt.figure(figsize=(7, 6))\n",
    "plt.imshow(cm, interpolation='nearest', cmap=plt.cm.Blues)\n",
    "plt.title('Confusion Matrix')\n",
    "plt.colorbar()\n",
    "tick_marks = np.arange(len(class_names))\n",
    "plt.xticks(tick_marks, class_names, rotation=45)\n",
    "plt.yticks(tick_marks, class_names)\n",
    "\n",
    "# Add labels to the plot\n",
    "plt.xlabel('Predicted')\n",
    "plt.ylabel('True')\n",
    "\n",
    "# Add text annotations\n",
    "thresh = cm.max() / 2.\n",
    "for i, j in np.ndindex(cm.shape):\n",
    "    plt.text(j, i, format(cm[i, j], 'd'),\n",
    "             ha=\"center\", va=\"center\",\n",
    "             color=\"white\" if cm[i, j] > thresh else \"black\")\n",
    "\n",
    "plt.tight_layout()\n",
    "plt.show()"
   ]
  },
  {
   "cell_type": "code",
   "execution_count": 29,
   "metadata": {
    "id": "qbZ7gjfpObZj"
   },
   "outputs": [],
   "source": [
    "def update_model_in_production_bucket(minio_client, bucket_name, model_folder_path):\n",
    "    try:\n",
    "        # Delete the existing model\n",
    "        objects = minio_client.list_objects(bucket_name, prefix='data/', recursive=True)\n",
    "        for obj in objects:\n",
    "            minio_client.remove_object(bucket_name, obj.object_name)\n",
    "    except Exception as e:\n",
    "        return f\"Error deleting existing model: {e}\"\n",
    "\n",
    "    # upload the new model's folder and all its contents\n",
    "    if [obj for obj in minio_client.list_objects(bucket_name, recursive=True)] == []:\n",
    "        try:\n",
    "            # Upload the new model's folder and all its contents\n",
    "            for root, dirs, files in os.walk(model_folder_path):\n",
    "                for file in files:\n",
    "                    local_file_path = os.path.join(root, file)\n",
    "                    relative_path = os.path.relpath(local_file_path, model_folder_path)\n",
    "                    minio_client.fput_object(bucket_name, f\"data/{relative_path}\", local_file_path)\n",
    "        except Exception as e:\n",
    "            return f\"Error uploading new model: {e}\"\n",
    "\n",
    "    return \"Model updated successfully\""
   ]
  },
  {
   "cell_type": "code",
   "execution_count": null,
   "metadata": {
    "id": "rAR2MMkfQqAG"
   },
   "outputs": [],
   "source": [
    "minio_client = Minio(\n",
    "    endpoint=REMOTE_MLFLOW_STORAGE_URI,\n",
    "    access_key=AWS_ACCESS_KEY_ID,\n",
    "    secret_key=AWS_SECRET_ACCESS_KEY,\n",
    "    secure=True\n",
    ")\n",
    "\n",
    "# List all objects in the bucket\n",
    "objects = minio_client.list_objects(REMOTE_MLFLOW_BUCKET_NAME)"
   ]
  },
  {
   "cell_type": "code",
   "execution_count": null,
   "metadata": {
    "colab": {
     "base_uri": "https://localhost:8080/",
     "height": 55
    },
    "id": "06lCJd_VRuI3",
    "outputId": "1a028d69-a6d2-48bf-b89c-e8f5a464cb5e"
   },
   "outputs": [
    {
     "data": {
      "application/vnd.google.colaboratory.intrinsic+json": {
       "type": "string"
      },
      "text/plain": [
       "'Model updated successfully'"
      ]
     },
     "execution_count": 48,
     "metadata": {},
     "output_type": "execute_result"
    }
   ],
   "source": [
    "update_model_in_production_bucket(\n",
    "    minio_client,\n",
    "    REMOTE_MLFLOW_BUCKET_NAME,\n",
    "    \"/content/minio.music-sim.fr/500397828407325387/0f5af0bfa25f41dfb788de287fd97a56/artifacts/model\"\n",
    "\n",
    ")"
   ]
  }
 ],
 "metadata": {
  "accelerator": "GPU",
  "colab": {
   "gpuType": "T4",
   "provenance": []
  },
  "kernelspec": {
   "display_name": ".venv",
   "language": "python",
   "name": "python3"
  },
  "language_info": {
   "name": "python",
   "version": "3.10.12"
  }
 },
 "nbformat": 4,
 "nbformat_minor": 0
}
